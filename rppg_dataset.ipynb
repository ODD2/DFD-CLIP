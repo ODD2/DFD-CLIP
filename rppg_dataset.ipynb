{
 "cells": [
  {
   "cell_type": "code",
   "execution_count": null,
   "metadata": {},
   "outputs": [],
   "source": [
    "import pandas as pd\n",
    "from glob import glob\n",
    "from pyedflib import highlevel as reader\n",
    "from matplotlib import pyplot as plt\n",
    "import torch\n",
    "import pickle\n",
    "# read an edf file\n",
    "signals, signal_headers, header = reader.read_edf('/storage/HCI/Sessions/59/Part_1_Trial18_taggingImages1.bdf')"
   ]
  },
  {
   "cell_type": "code",
   "execution_count": null,
   "metadata": {},
   "outputs": [],
   "source": [
    "signals.shape"
   ]
  },
  {
   "cell_type": "code",
   "execution_count": null,
   "metadata": {},
   "outputs": [],
   "source": [
    "signal_labels = [x[\"label\"] for x in signal_headers]\n",
    "print(signal_labels,f\"len:{len(signal_labels)}\")\n",
    "print(\"=============================\")\n",
    "print(signal_labels.index(\"EXG1\"))\n",
    "print(signal_labels.index(\"EXG2\"))\n",
    "print(signal_labels.index(\"EXG3\"))"
   ]
  },
  {
   "cell_type": "code",
   "execution_count": null,
   "metadata": {},
   "outputs": [],
   "source": [
    "signal_headers"
   ]
  },
  {
   "cell_type": "code",
   "execution_count": null,
   "metadata": {},
   "outputs": [],
   "source": [
    "hr_freq = signal_headers[32][\"sample_frequency\"]\n",
    "print(hr_freq)\n",
    "hr_skip = int(hr_freq * 30)\n",
    "hr_dur = int(hr_freq * 3)\n",
    "hr_data = signals[33][hr_skip:hr_skip + hr_dur]\n",
    "plt.plot([i/hr_freq for i in range(len(hr_data))],hr_data)"
   ]
  },
  {
   "cell_type": "code",
   "execution_count": null,
   "metadata": {},
   "outputs": [],
   "source": [
    "event_freq = signal_headers[46][\"sample_frequency\"]\n",
    "event_skip = int(event_freq * 29)\n",
    "event_data = signals[46][event_skip:-event_skip]\n",
    "plt.plot([i/event_freq for i in range(len(event_data))],event_data)"
   ]
  },
  {
   "cell_type": "code",
   "execution_count": null,
   "metadata": {},
   "outputs": [],
   "source": [
    "timestamps = []\n",
    "prev = None\n",
    "for i,v in enumerate(event_data):\n",
    "    if(not v == prev):\n",
    "        timestamps.append(i)\n",
    "        prev = v\n",
    "timestamps\n",
    "print(f\"stimuate duration: {(timestamps[-2] - timestamps[1])/event_freq}\")\n"
   ]
  },
  {
   "cell_type": "code",
   "execution_count": null,
   "metadata": {},
   "outputs": [],
   "source": [
    "import os\n",
    "from src.datasets import SessionMeta,RPPG\n",
    "\n",
    "test = SessionMeta(\"./datasets/hci/Sessions/521/\",cropped_dir=\"./datasets/hci/cropped_faces/521/\")\n",
    "test.__dict__"
   ]
  },
  {
   "cell_type": "code",
   "execution_count": null,
   "metadata": {},
   "outputs": [],
   "source": [
    "c = RPPG.get_default_config()\n",
    "c.clip_duration = 10\n",
    "c.num_frames = c.clip_duration * 5\n",
    "c.train_ratio = 1.0\n",
    "# c.meta_folder=None"
   ]
  },
  {
   "cell_type": "code",
   "execution_count": null,
   "metadata": {},
   "outputs": [],
   "source": [
    "# from src.models import Detector\n",
    "# import pandas as pd\n",
    "# import torch\n",
    "# from src.models import Detector\n",
    "# from main import get_config,init_accelerator,set_seed\n",
    "# from torchinfo import summary\n",
    "\n",
    "# config = get_config(\"./configs/rppg.yml\")\n",
    "\n",
    "# # initialize accelerator and trackers (if enabled)\n",
    "# accelerator = init_accelerator(config)\n",
    "# model = Detector(config.model, 50, accelerator)"
   ]
  },
  {
   "cell_type": "code",
   "execution_count": null,
   "metadata": {},
   "outputs": [],
   "source": [
    "x = RPPG(c)"
   ]
  },
  {
   "cell_type": "code",
   "execution_count": null,
   "metadata": {},
   "outputs": [],
   "source": [
    "# x.save_meta()"
   ]
  },
  {
   "cell_type": "code",
   "execution_count": null,
   "metadata": {},
   "outputs": [],
   "source": [
    "len(x.session_metas)"
   ]
  },
  {
   "cell_type": "code",
   "execution_count": null,
   "metadata": {},
   "outputs": [],
   "source": [
    "r = x.get_dict(100)\n",
    "frames,label,hr_data, masks, measures,wd = r[\"frames\"],r[\"label\"],r[\"hr_data\"],r[\"mask\"],r[\"measures\"],r[\"wd\"]"
   ]
  },
  {
   "cell_type": "code",
   "execution_count": null,
   "metadata": {},
   "outputs": [],
   "source": [
    "frames.shape"
   ]
  },
  {
   "cell_type": "code",
   "execution_count": null,
   "metadata": {},
   "outputs": [],
   "source": [
    "import torchvision.transforms as T\n",
    "trans =  T.Compose([\n",
    "    T.Resize(224, interpolation=T.InterpolationMode.BICUBIC),\n",
    "    T.CenterCrop(224),\n",
    "    T.ConvertImageDtype(torch.float32),\n",
    "    T.Normalize((0.48145466, 0.4578275, 0.40821073),\n",
    "                (0.26862954, 0.26130258, 0.27577711)),\n",
    "])\n",
    "trans(frames)"
   ]
  },
  {
   "cell_type": "code",
   "execution_count": null,
   "metadata": {},
   "outputs": [],
   "source": [
    "measures[\"bpm\"]"
   ]
  },
  {
   "cell_type": "code",
   "execution_count": null,
   "metadata": {},
   "outputs": [],
   "source": [
    "masks"
   ]
  },
  {
   "cell_type": "code",
   "execution_count": null,
   "metadata": {},
   "outputs": [],
   "source": [
    "import numpy as np"
   ]
  },
  {
   "cell_type": "code",
   "execution_count": null,
   "metadata": {},
   "outputs": [],
   "source": [
    "print(len(hr_data),len(frames))"
   ]
  },
  {
   "cell_type": "code",
   "execution_count": null,
   "metadata": {},
   "outputs": [],
   "source": [
    "plt.imshow(frames[0])"
   ]
  },
  {
   "cell_type": "code",
   "execution_count": null,
   "metadata": {},
   "outputs": [],
   "source": [
    "plt.imshow(np.stack(frames[:30],axis=1).reshape((150,-1,3)))"
   ]
  },
  {
   "cell_type": "code",
   "execution_count": null,
   "metadata": {},
   "outputs": [],
   "source": [
    "plt.plot(hr_data)"
   ]
  },
  {
   "cell_type": "code",
   "execution_count": null,
   "metadata": {},
   "outputs": [],
   "source": [
    "import heartpy as hp\n",
    "hp.plotter(wd, measures)\n",
    "#display computed measures\n",
    "for measure in measures.keys():\n",
    "    print('%s: %f' %(measure, measures[measure]))"
   ]
  },
  {
   "cell_type": "code",
   "execution_count": null,
   "metadata": {},
   "outputs": [],
   "source": [
    "from tqdm import tqdm\n",
    "for i in tqdm(range(len(x))):\n",
    "    try:\n",
    "        x[i]\n",
    "    except Exception as e:\n",
    "        print(i,e)"
   ]
  },
  {
   "cell_type": "code",
   "execution_count": null,
   "metadata": {},
   "outputs": [],
   "source": [
    "import math\n",
    "from src.datasets import resample\n",
    "self = x\n",
    "idx = 199\n",
    "\n",
    "session_idx =  next(i for i,x in enumerate(self.stack_session_clips) if  idx < x)\n",
    "session_meta = self.session_metas[session_idx]\n",
    "session_offset_duration =  (idx - (0 if session_idx == 0 else self.stack_session_clips[session_idx-1]))*self.clip_duration\n",
    "# heart rate data processing\n",
    "signals, signal_headers, _ = reader.read_edf(session_meta.bdf_path,ch_names=[\"EXG1\",\"EXG2\",\"EXG3\",\"Status\"])\n",
    "_hr_datas = []\n",
    "for hr_channel_idx in range(3):\n",
    "    try:\n",
    "        assert  int(session_meta.session_hr_sample_freq) == int(signal_headers[hr_channel_idx][\"sample_frequency\"])\n",
    "        # - the ERG sample frequency\n",
    "        hr_sample_freq =  session_meta.session_hr_sample_freq\n",
    "        # - the amount of samples to skip, including the 30s stimulation offset and session clip offset.\n",
    "        hr_sample_offset =  session_meta.flag_hr_beg_sample + int(session_offset_duration*hr_sample_freq)\n",
    "        # - the amount of samples for the duration of a clip\n",
    "        hr_clip_samples = int(hr_sample_freq*self.clip_duration)\n",
    "        # - fetch heart rate data of clip duration\n",
    "        _hr_data = signals[hr_channel_idx][hr_sample_offset:hr_sample_offset + hr_clip_samples]\n",
    "        # - preprocess the ERG data: filter out the noise.\n",
    "        _hr_data = hp.filter_signal(_hr_data, cutoff = 0.05, sample_rate = session_meta.session_hr_sample_freq, filtertype='notch')\n",
    "        # - scale down the ERG value to 3.4 max.\n",
    "        _hr_data = (_hr_data - _hr_data.min())/(_hr_data.max()-_hr_data.min()) * 3.4\n",
    "        # - resample the ERG\n",
    "        _hr_data = resample(_hr_data, len(_hr_data) * 10)\n",
    "        # - process the ERG data: get measurements.\n",
    "        _wd, _measures = hp.process(hp.scale_data(_hr_data),session_meta.session_hr_sample_freq * 10)\n",
    "        # - nan/error check\n",
    "        # if(_measures[\"bpm\"] > 180 or _measures[\"bpm\"] < 41):\n",
    "            # continue\n",
    "    \n",
    "        for v in _measures.values():\n",
    "            # ignore\n",
    "            if type(v)==float and math.isnan(v):\n",
    "                break\n",
    "        else:\n",
    "            # - save for comparison.\n",
    "            _hr_datas.append((_hr_data,_measures,_wd))\n",
    "    except Exception as e:\n",
    "        print(f\"Error occur during heart rate analysis for index {idx}:{e}\")\n",
    "        continue\n",
    "\n",
    "if(len(_hr_datas) == 0):\n",
    "    raise Exception(f\"Unable to process the ERG data for index {idx}\")\n",
    "\n",
    "# get the best ERG measurement result with the sdnn\n",
    "best_pair = sorted(_hr_datas,key=lambda x : x[1][\"sdnn\"])[0]\n",
    "hr_data,measures,wd = best_pair[0], best_pair[1], best_pair[2]\n",
    "bpm = measures[\"bpm\"]\n",
    "1/(pow(2*math.pi,0.5))*pow(math.e,(-pow((31-(72-41)),2)/2))\n",
    "label = torch.tensor([1/(pow(2*math.pi,0.5))*pow(math.e,(-pow((k-(bpm-41)),2)/2)) for k in range(180)])\n",
    "\n",
    "import heartpy as hp\n",
    "hp.plotter(wd, measures)\n",
    "#display computed measures\n",
    "for measure in measures.keys():\n",
    "    print('%s: %f' %(measure, measures[measure]))\n"
   ]
  },
  {
   "cell_type": "code",
   "execution_count": null,
   "metadata": {},
   "outputs": [],
   "source": []
  }
 ],
 "metadata": {
  "kernelspec": {
   "display_name": "dfd-clip",
   "language": "python",
   "name": "python3"
  },
  "language_info": {
   "codemirror_mode": {
    "name": "ipython",
    "version": 3
   },
   "file_extension": ".py",
   "mimetype": "text/x-python",
   "name": "python",
   "nbconvert_exporter": "python",
   "pygments_lexer": "ipython3",
   "version": "3.8.16"
  },
  "orig_nbformat": 4,
  "vscode": {
   "interpreter": {
    "hash": "c9d400f0712968c6b0c2c185442708fcff6ca365f2120d94e1d89a9df5bd30ab"
   }
  }
 },
 "nbformat": 4,
 "nbformat_minor": 2
}
