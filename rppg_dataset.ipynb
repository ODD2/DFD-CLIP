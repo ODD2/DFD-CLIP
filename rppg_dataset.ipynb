{
 "cells": [
  {
   "cell_type": "code",
   "execution_count": null,
   "metadata": {},
   "outputs": [],
   "source": [
    "import pandas as pd\n",
    "from glob import glob\n",
    "from pyedflib import highlevel as reader\n",
    "from matplotlib import pyplot as plt\n",
    "import torch\n",
    "import pickle\n",
    "# read an edf file\n",
    "signals, signal_headers, header = reader.read_edf('/storage/HCI/Sessions/59/Part_1_Trial18_taggingImages1.bdf')"
   ]
  },
  {
   "cell_type": "code",
   "execution_count": null,
   "metadata": {},
   "outputs": [],
   "source": [
    "signals.shape"
   ]
  },
  {
   "cell_type": "code",
   "execution_count": null,
   "metadata": {},
   "outputs": [],
   "source": [
    "signal_labels = [x[\"label\"] for x in signal_headers]\n",
    "print(signal_labels,f\"len:{len(signal_labels)}\")\n",
    "print(\"=============================\")\n",
    "print(signal_labels.index(\"EXG1\"))\n",
    "print(signal_labels.index(\"EXG2\"))\n",
    "print(signal_labels.index(\"EXG3\"))"
   ]
  },
  {
   "cell_type": "code",
   "execution_count": null,
   "metadata": {},
   "outputs": [],
   "source": [
    "signal_headers"
   ]
  },
  {
   "cell_type": "code",
   "execution_count": null,
   "metadata": {},
   "outputs": [],
   "source": [
    "hr_freq = signal_headers[32][\"sample_frequency\"]\n",
    "print(hr_freq)\n",
    "hr_skip = int(hr_freq * 30)\n",
    "hr_dur = int(hr_freq * 3)\n",
    "hr_data = signals[33][hr_skip:hr_skip + hr_dur]\n",
    "plt.plot([i/hr_freq for i in range(len(hr_data))],hr_data)"
   ]
  },
  {
   "cell_type": "code",
   "execution_count": null,
   "metadata": {},
   "outputs": [],
   "source": [
    "event_freq = signal_headers[46][\"sample_frequency\"]\n",
    "event_skip = int(event_freq * 29)\n",
    "event_data = signals[46][event_skip:-event_skip]\n",
    "plt.plot([i/event_freq for i in range(len(event_data))],event_data)"
   ]
  },
  {
   "cell_type": "code",
   "execution_count": null,
   "metadata": {},
   "outputs": [],
   "source": [
    "timestamps = []\n",
    "prev = None\n",
    "for i,v in enumerate(event_data):\n",
    "    if(not v == prev):\n",
    "        timestamps.append(i)\n",
    "        prev = v\n",
    "timestamps\n",
    "print(f\"stimuate duration: {(timestamps[-2] - timestamps[1])/event_freq}\")\n"
   ]
  },
  {
   "cell_type": "code",
   "execution_count": null,
   "metadata": {},
   "outputs": [],
   "source": [
    "import os\n",
    "from src.datasets import SessionMeta,RPPG\n",
    "\n",
    "test = SessionMeta(\"./datasets/hci/Sessions/521/\",cropped_dir=\"./datasets/hci/cropped_faces/521/\")\n",
    "test.__dict__"
   ]
  },
  {
   "cell_type": "code",
   "execution_count": null,
   "metadata": {},
   "outputs": [],
   "source": [
    "c = RPPG.get_default_config()\n",
    "c.clip_duration = 10\n",
    "c.num_frames = c.clip_duration * 5\n",
    "c.train_ratio = 1.0\n",
    "# c.meta_folder=None"
   ]
  },
  {
   "cell_type": "code",
   "execution_count": null,
   "metadata": {},
   "outputs": [],
   "source": [
    "# from src.models import Detector\n",
    "# import pandas as pd\n",
    "# import torch\n",
    "# from src.models import Detector\n",
    "# from main import get_config,init_accelerator,set_seed\n",
    "# from torchinfo import summary\n",
    "\n",
    "# config = get_config(\"./configs/rppg.yml\")\n",
    "\n",
    "# # initialize accelerator and trackers (if enabled)\n",
    "# accelerator = init_accelerator(config)\n",
    "# model = Detector(config.model, 50, accelerator)"
   ]
  },
  {
   "cell_type": "code",
   "execution_count": null,
   "metadata": {},
   "outputs": [],
   "source": [
    "x = RPPG(c)"
   ]
  },
  {
   "cell_type": "code",
   "execution_count": null,
   "metadata": {},
   "outputs": [],
   "source": [
    "# x.save_meta()"
   ]
  },
  {
   "cell_type": "code",
   "execution_count": null,
   "metadata": {},
   "outputs": [],
   "source": [
    "len(x.session_metas)"
   ]
  },
  {
   "cell_type": "code",
   "execution_count": null,
   "metadata": {},
   "outputs": [],
   "source": [
    "r = x.get_dict(100)\n",
    "frames,label,hr_data, masks, measures,wd = r[\"frames\"],r[\"label\"],r[\"hr_data\"],r[\"mask\"],r[\"measures\"],r[\"wd\"]"
   ]
  },
  {
   "cell_type": "code",
   "execution_count": 15,
   "metadata": {},
   "outputs": [
    {
     "data": {
      "text/plain": [
       "torch.Size([50, 3, 150, 150])"
      ]
     },
     "execution_count": 15,
     "metadata": {},
     "output_type": "execute_result"
    }
   ],
   "source": [
    "frames.shape"
   ]
  },
  {
   "cell_type": "code",
   "execution_count": 17,
   "metadata": {},
   "outputs": [
    {
     "data": {
      "text/plain": [
       "tensor([[[[-0.9456, -0.9164, -0.9164,  ..., -1.1353, -0.7704, -0.4784],\n",
       "          [-1.0039, -0.9164, -0.9018,  ..., -1.2083, -0.9164, -0.6682],\n",
       "          [-0.9018, -0.8434, -0.8580,  ..., -1.2813, -1.0915, -0.9310],\n",
       "          ...,\n",
       "          [-1.3397, -1.3105, -1.2667,  ..., -1.2083, -1.1791, -1.1353],\n",
       "          [-1.3543, -1.2959, -1.2521,  ..., -1.2229, -1.1937, -1.1353],\n",
       "          [-1.3543, -1.2959, -1.2375,  ..., -1.2229, -1.1791, -1.1207]],\n",
       "\n",
       "         [[-0.8666, -0.8366, -0.8366,  ..., -1.2118, -0.7766, -0.4314],\n",
       "          [-0.9267, -0.8366, -0.8216,  ..., -1.2869, -0.9267, -0.6415],\n",
       "          [-0.8216, -0.7616, -0.7766,  ..., -1.3469, -1.1218, -0.9267],\n",
       "          ...,\n",
       "          [-1.3769, -1.3469, -1.3019,  ..., -1.2418, -1.2118, -1.1668],\n",
       "          [-1.3919, -1.3319, -1.2869,  ..., -1.2568, -1.2268, -1.1668],\n",
       "          [-1.3919, -1.3319, -1.2718,  ..., -1.2568, -1.2118, -1.1518]],\n",
       "\n",
       "         [[-0.7834, -0.7408, -0.7408,  ..., -1.0821, -0.6839, -0.3711],\n",
       "          [-0.8403, -0.7550, -0.7123,  ..., -1.1532, -0.8261, -0.5844],\n",
       "          [-0.7550, -0.6839, -0.6697,  ..., -1.2100, -1.0110, -0.8403],\n",
       "          ...,\n",
       "          [-1.2527, -1.2243, -1.1816,  ..., -1.1247, -1.0963, -1.0536],\n",
       "          [-1.2669, -1.2100, -1.1674,  ..., -1.1389, -1.1105, -1.0536],\n",
       "          [-1.2669, -1.2100, -1.1532,  ..., -1.1389, -1.0963, -1.0394]]],\n",
       "\n",
       "\n",
       "        [[[-0.7266, -0.7266, -0.7412,  ..., -0.6974, -0.9310, -1.0915],\n",
       "          [-0.7266, -0.7120, -0.7558,  ..., -0.8434, -0.9893, -1.0769],\n",
       "          [-0.7558, -0.7558, -0.8288,  ..., -0.9893, -0.9893, -1.0039],\n",
       "          ...,\n",
       "          [-1.2667, -1.2959, -1.3105,  ..., -1.2083, -1.2083, -1.1937],\n",
       "          [-1.2959, -1.3105, -1.3251,  ..., -1.1937, -1.2083, -1.1937],\n",
       "          [-1.3105, -1.3397, -1.3397,  ..., -1.1791, -1.2083, -1.2083]],\n",
       "\n",
       "         [[-0.6415, -0.6415, -0.6565,  ..., -0.6415, -0.8816, -1.0467],\n",
       "          [-0.6415, -0.6265, -0.6715,  ..., -0.8066, -0.9417, -1.0467],\n",
       "          [-0.6715, -0.6715, -0.7466,  ..., -0.9567, -0.9567, -0.9567],\n",
       "          ...,\n",
       "          [-1.3469, -1.3469, -1.3319,  ..., -1.2418, -1.2418, -1.2268],\n",
       "          [-1.3769, -1.3919, -1.3769,  ..., -1.2268, -1.2418, -1.2268],\n",
       "          [-1.3919, -1.4219, -1.4219,  ..., -1.2118, -1.2418, -1.2418]],\n",
       "\n",
       "         [[-0.5417, -0.5417, -0.5559,  ..., -0.5844, -0.7834, -0.9114],\n",
       "          [-0.5417, -0.5275, -0.5701,  ..., -0.7266, -0.8261, -0.8972],\n",
       "          [-0.5701, -0.5701, -0.6412,  ..., -0.8545, -0.8261, -0.8261],\n",
       "          ...,\n",
       "          [-1.2243, -1.2100, -1.2243,  ..., -1.1247, -1.1247, -1.1105],\n",
       "          [-1.2385, -1.2527, -1.2527,  ..., -1.1105, -1.1247, -1.1105],\n",
       "          [-1.2527, -1.2811, -1.2811,  ..., -1.0963, -1.1247, -1.1247]]],\n",
       "\n",
       "\n",
       "        [[[-0.7120, -0.7120, -0.7850,  ..., -0.4346, -0.5222, -0.7558],\n",
       "          [-0.7996, -0.8142, -0.8726,  ..., -0.6098, -0.5806, -0.6974],\n",
       "          [-0.8726, -0.9164, -0.9602,  ..., -0.8726, -0.7266, -0.7266],\n",
       "          ...,\n",
       "          [-1.3105, -1.2959, -1.2667,  ..., -1.2229, -1.1791, -1.1353],\n",
       "          [-1.3397, -1.2959, -1.2521,  ..., -1.2375, -1.2083, -1.1499],\n",
       "          [-1.3689, -1.3105, -1.2521,  ..., -1.2375, -1.2083, -1.1645]],\n",
       "\n",
       "         [[-0.6265, -0.6265, -0.7016,  ..., -0.4014, -0.4764, -0.7016],\n",
       "          [-0.7166, -0.7316, -0.7916,  ..., -0.5665, -0.5215, -0.6415],\n",
       "          [-0.7916, -0.8366, -0.8816,  ..., -0.8366, -0.6715, -0.6715],\n",
       "          ...,\n",
       "          [-1.3469, -1.3319, -1.3019,  ..., -1.2568, -1.2118, -1.1668],\n",
       "          [-1.3769, -1.3319, -1.2869,  ..., -1.2718, -1.2418, -1.1818],\n",
       "          [-1.4069, -1.3469, -1.2869,  ..., -1.2718, -1.2418, -1.1968]],\n",
       "\n",
       "         [[-0.5275, -0.5275, -0.5986,  ..., -0.3426, -0.3995, -0.6128],\n",
       "          [-0.6270, -0.6270, -0.6839,  ..., -0.5133, -0.4564, -0.5559],\n",
       "          [-0.6981, -0.7266, -0.7692,  ..., -0.7692, -0.5986, -0.5844],\n",
       "          ...,\n",
       "          [-1.2243, -1.2100, -1.1816,  ..., -1.1389, -1.0963, -1.0536],\n",
       "          [-1.2527, -1.2100, -1.1674,  ..., -1.1532, -1.1247, -1.0678],\n",
       "          [-1.2811, -1.2243, -1.1674,  ..., -1.1532, -1.1247, -1.0821]]],\n",
       "\n",
       "\n",
       "        ...,\n",
       "\n",
       "\n",
       "        [[[-0.8726, -0.8872, -0.9164,  ..., -0.6098, -0.4930, -0.5514],\n",
       "          [-0.9018, -0.9018, -0.9018,  ..., -0.8142, -0.6244, -0.5806],\n",
       "          [-0.8726, -0.8726, -0.8872,  ..., -1.0477, -0.8434, -0.7266],\n",
       "          ...,\n",
       "          [-1.3105, -1.2959, -1.2813,  ..., -1.0769, -1.0623, -1.0477],\n",
       "          [-1.3251, -1.3251, -1.2959,  ..., -1.1061, -1.0769, -1.0623],\n",
       "          [-1.3397, -1.3397, -1.3105,  ..., -1.1353, -1.1061, -1.0769]],\n",
       "\n",
       "         [[-0.7916, -0.8066, -0.8216,  ..., -0.6115, -0.4764, -0.5365],\n",
       "          [-0.8216, -0.8216, -0.8216,  ..., -0.8216, -0.6115, -0.5665],\n",
       "          [-0.7916, -0.7916, -0.8066,  ..., -1.0767, -0.8516, -0.7166],\n",
       "          ...,\n",
       "          [-1.3919, -1.3919, -1.3619,  ..., -1.1368, -1.1218, -1.1068],\n",
       "          [-1.3919, -1.3919, -1.3619,  ..., -1.1668, -1.1368, -1.1218],\n",
       "          [-1.3919, -1.3919, -1.3619,  ..., -1.1968, -1.1668, -1.1368]],\n",
       "\n",
       "         [[-0.6839, -0.6981, -0.7266,  ..., -0.5417, -0.4137, -0.4706],\n",
       "          [-0.7123, -0.7123, -0.7123,  ..., -0.7408, -0.5417, -0.4990],\n",
       "          [-0.6839, -0.6839, -0.6981,  ..., -0.9825, -0.7692, -0.6412],\n",
       "          ...,\n",
       "          [-1.2385, -1.2385, -1.2243,  ..., -1.0536, -1.0394, -1.0252],\n",
       "          [-1.2669, -1.2669, -1.2385,  ..., -1.0821, -1.0536, -1.0394],\n",
       "          [-1.2669, -1.2669, -1.2385,  ..., -1.1105, -1.0821, -1.0536]]],\n",
       "\n",
       "\n",
       "        [[[-1.0185, -0.8434, -0.7412,  ..., -0.5806, -0.4930, -0.5806],\n",
       "          [-1.1207, -0.8872, -0.7850,  ..., -0.7850, -0.6390, -0.6536],\n",
       "          [-1.1061, -0.8872, -0.8288,  ..., -1.0331, -0.8872, -0.8288],\n",
       "          ...,\n",
       "          [-1.3105, -1.3105, -1.2959,  ..., -1.1207, -1.0915, -1.0623],\n",
       "          [-1.3543, -1.3543, -1.3397,  ..., -1.1353, -1.1207, -1.0915],\n",
       "          [-1.3689, -1.3835, -1.3689,  ..., -1.1499, -1.1353, -1.1207]],\n",
       "\n",
       "         [[-0.9417, -0.7616, -0.6565,  ..., -0.5815, -0.4764, -0.5515],\n",
       "          [-1.0467, -0.8066, -0.7016,  ..., -0.7916, -0.6115, -0.6115],\n",
       "          [-1.0317, -0.8066, -0.7316,  ..., -1.0467, -0.8666, -0.7916],\n",
       "          ...,\n",
       "          [-1.3469, -1.3769, -1.3919,  ..., -1.1818, -1.1518, -1.1218],\n",
       "          [-1.3769, -1.3919, -1.3919,  ..., -1.1968, -1.1818, -1.1518],\n",
       "          [-1.4069, -1.4069, -1.4069,  ..., -1.2118, -1.1968, -1.1818]],\n",
       "\n",
       "         [[-0.8261, -0.6555, -0.5559,  ..., -0.5133, -0.4137, -0.4848],\n",
       "          [-0.9256, -0.6981, -0.5986,  ..., -0.6981, -0.5417, -0.5417],\n",
       "          [-0.9114, -0.6981, -0.6412,  ..., -0.9541, -0.7834, -0.7123],\n",
       "          ...,\n",
       "          [-1.1958, -1.2100, -1.2100,  ..., -1.0963, -1.0678, -1.0394],\n",
       "          [-1.2385, -1.2385, -1.2385,  ..., -1.1105, -1.0963, -1.0678],\n",
       "          [-1.2527, -1.2669, -1.2527,  ..., -1.1247, -1.1105, -1.0963]]],\n",
       "\n",
       "\n",
       "        [[[-1.7923, -1.7923, -1.7923,  ..., -1.7923, -1.7923, -1.7923],\n",
       "          [-1.7923, -1.7923, -1.7923,  ..., -1.7923, -1.7923, -1.7923],\n",
       "          [-1.7923, -1.7923, -1.7923,  ..., -1.7923, -1.7923, -1.7923],\n",
       "          ...,\n",
       "          [-1.7923, -1.7923, -1.7923,  ..., -1.7923, -1.7923, -1.7923],\n",
       "          [-1.7923, -1.7923, -1.7923,  ..., -1.7923, -1.7923, -1.7923],\n",
       "          [-1.7923, -1.7923, -1.7923,  ..., -1.7923, -1.7923, -1.7923]],\n",
       "\n",
       "         [[-1.7521, -1.7521, -1.7521,  ..., -1.7521, -1.7521, -1.7521],\n",
       "          [-1.7521, -1.7521, -1.7521,  ..., -1.7521, -1.7521, -1.7521],\n",
       "          [-1.7521, -1.7521, -1.7521,  ..., -1.7521, -1.7521, -1.7521],\n",
       "          ...,\n",
       "          [-1.7521, -1.7521, -1.7521,  ..., -1.7521, -1.7521, -1.7521],\n",
       "          [-1.7521, -1.7521, -1.7521,  ..., -1.7521, -1.7521, -1.7521],\n",
       "          [-1.7521, -1.7521, -1.7521,  ..., -1.7521, -1.7521, -1.7521]],\n",
       "\n",
       "         [[-1.4802, -1.4802, -1.4802,  ..., -1.4802, -1.4802, -1.4802],\n",
       "          [-1.4802, -1.4802, -1.4802,  ..., -1.4802, -1.4802, -1.4802],\n",
       "          [-1.4802, -1.4802, -1.4802,  ..., -1.4802, -1.4802, -1.4802],\n",
       "          ...,\n",
       "          [-1.4802, -1.4802, -1.4802,  ..., -1.4802, -1.4802, -1.4802],\n",
       "          [-1.4802, -1.4802, -1.4802,  ..., -1.4802, -1.4802, -1.4802],\n",
       "          [-1.4802, -1.4802, -1.4802,  ..., -1.4802, -1.4802, -1.4802]]]])"
      ]
     },
     "execution_count": 17,
     "metadata": {},
     "output_type": "execute_result"
    }
   ],
   "source": [
    "import torchvision.transforms as T\n",
    "trans =  T.Compose([\n",
    "    T.Resize(224, interpolation=T.InterpolationMode.BICUBIC),\n",
    "    T.CenterCrop(224),\n",
    "    T.ConvertImageDtype(torch.float32),\n",
    "    T.Normalize((0.48145466, 0.4578275, 0.40821073),\n",
    "                (0.26862954, 0.26130258, 0.27577711)),\n",
    "])\n",
    "trans(frames)"
   ]
  },
  {
   "cell_type": "code",
   "execution_count": null,
   "metadata": {},
   "outputs": [],
   "source": [
    "measures[\"bpm\"]"
   ]
  },
  {
   "cell_type": "code",
   "execution_count": null,
   "metadata": {},
   "outputs": [],
   "source": [
    "masks"
   ]
  },
  {
   "cell_type": "code",
   "execution_count": null,
   "metadata": {},
   "outputs": [],
   "source": [
    "import numpy as np\n",
    "t = np.stack(frames[:30])"
   ]
  },
  {
   "cell_type": "code",
   "execution_count": null,
   "metadata": {},
   "outputs": [],
   "source": [
    "print(len(hr_data),len(frames))"
   ]
  },
  {
   "cell_type": "code",
   "execution_count": null,
   "metadata": {},
   "outputs": [],
   "source": [
    "plt.imshow(frames[0])"
   ]
  },
  {
   "cell_type": "code",
   "execution_count": null,
   "metadata": {},
   "outputs": [],
   "source": [
    "plt.imshow(np.stack(frames[:30],axis=1).reshape((150,-1,3)))"
   ]
  },
  {
   "cell_type": "code",
   "execution_count": null,
   "metadata": {},
   "outputs": [],
   "source": [
    "plt.plot(hr_data)"
   ]
  },
  {
   "cell_type": "code",
   "execution_count": null,
   "metadata": {},
   "outputs": [],
   "source": [
    "import heartpy as hp\n",
    "hp.plotter(wd, measures)\n",
    "#display computed measures\n",
    "for measure in measures.keys():\n",
    "    print('%s: %f' %(measure, measures[measure]))"
   ]
  },
  {
   "cell_type": "code",
   "execution_count": null,
   "metadata": {},
   "outputs": [],
   "source": [
    "from tqdm import tqdm\n",
    "for i in tqdm(range(len(x))):\n",
    "    try:\n",
    "        x[i]\n",
    "    except Exception as e:\n",
    "        print(i,e)"
   ]
  },
  {
   "cell_type": "code",
   "execution_count": null,
   "metadata": {},
   "outputs": [],
   "source": [
    "import math\n",
    "from src.datasets import resample\n",
    "self = x\n",
    "idx = 199\n",
    "\n",
    "session_idx =  next(i for i,x in enumerate(self.stack_session_clips) if  idx < x)\n",
    "session_meta = self.session_metas[session_idx]\n",
    "session_offset_duration =  (idx - (0 if session_idx == 0 else self.stack_session_clips[session_idx-1]))*self.clip_duration\n",
    "# heart rate data processing\n",
    "signals, signal_headers, _ = reader.read_edf(session_meta.bdf_path,ch_names=[\"EXG1\",\"EXG2\",\"EXG3\",\"Status\"])\n",
    "_hr_datas = []\n",
    "for hr_channel_idx in range(3):\n",
    "    try:\n",
    "        assert  int(session_meta.session_hr_sample_freq) == int(signal_headers[hr_channel_idx][\"sample_frequency\"])\n",
    "        # - the ERG sample frequency\n",
    "        hr_sample_freq =  session_meta.session_hr_sample_freq\n",
    "        # - the amount of samples to skip, including the 30s stimulation offset and session clip offset.\n",
    "        hr_sample_offset =  session_meta.flag_hr_beg_sample + int(session_offset_duration*hr_sample_freq)\n",
    "        # - the amount of samples for the duration of a clip\n",
    "        hr_clip_samples = int(hr_sample_freq*self.clip_duration)\n",
    "        # - fetch heart rate data of clip duration\n",
    "        _hr_data = signals[hr_channel_idx][hr_sample_offset:hr_sample_offset + hr_clip_samples]\n",
    "        # - preprocess the ERG data: filter out the noise.\n",
    "        _hr_data = hp.filter_signal(_hr_data, cutoff = 0.05, sample_rate = session_meta.session_hr_sample_freq, filtertype='notch')\n",
    "        # - scale down the ERG value to 3.4 max.\n",
    "        _hr_data = (_hr_data - _hr_data.min())/(_hr_data.max()-_hr_data.min()) * 3.4\n",
    "        # - resample the ERG\n",
    "        _hr_data = resample(_hr_data, len(_hr_data) * 10)\n",
    "        # - process the ERG data: get measurements.\n",
    "        _wd, _measures = hp.process(hp.scale_data(_hr_data),session_meta.session_hr_sample_freq * 10)\n",
    "        # - nan/error check\n",
    "        # if(_measures[\"bpm\"] > 180 or _measures[\"bpm\"] < 41):\n",
    "            # continue\n",
    "    \n",
    "        for v in _measures.values():\n",
    "            # ignore\n",
    "            if type(v)==float and math.isnan(v):\n",
    "                break\n",
    "        else:\n",
    "            # - save for comparison.\n",
    "            _hr_datas.append((_hr_data,_measures,_wd))\n",
    "    except Exception as e:\n",
    "        print(f\"Error occur during heart rate analysis for index {idx}:{e}\")\n",
    "        continue\n",
    "\n",
    "if(len(_hr_datas) == 0):\n",
    "    raise Exception(f\"Unable to process the ERG data for index {idx}\")\n",
    "\n",
    "# get the best ERG measurement result with the sdnn\n",
    "best_pair = sorted(_hr_datas,key=lambda x : x[1][\"sdnn\"])[0]\n",
    "hr_data,measures,wd = best_pair[0], best_pair[1], best_pair[2]\n",
    "bpm = measures[\"bpm\"]\n",
    "1/(pow(2*math.pi,0.5))*pow(math.e,(-pow((31-(72-41)),2)/2))\n",
    "label = torch.tensor([1/(pow(2*math.pi,0.5))*pow(math.e,(-pow((k-(bpm-41)),2)/2)) for k in range(180)])\n",
    "\n",
    "import heartpy as hp\n",
    "hp.plotter(wd, measures)\n",
    "#display computed measures\n",
    "for measure in measures.keys():\n",
    "    print('%s: %f' %(measure, measures[measure]))\n"
   ]
  },
  {
   "cell_type": "code",
   "execution_count": null,
   "metadata": {},
   "outputs": [],
   "source": []
  }
 ],
 "metadata": {
  "kernelspec": {
   "display_name": "dfd-clip",
   "language": "python",
   "name": "python3"
  },
  "language_info": {
   "codemirror_mode": {
    "name": "ipython",
    "version": 3
   },
   "file_extension": ".py",
   "mimetype": "text/x-python",
   "name": "python",
   "nbconvert_exporter": "python",
   "pygments_lexer": "ipython3",
   "version": "3.8.16"
  },
  "orig_nbformat": 4,
  "vscode": {
   "interpreter": {
    "hash": "c9d400f0712968c6b0c2c185442708fcff6ca365f2120d94e1d89a9df5bd30ab"
   }
  }
 },
 "nbformat": 4,
 "nbformat_minor": 2
}
