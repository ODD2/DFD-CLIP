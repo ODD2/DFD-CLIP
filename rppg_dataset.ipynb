{
 "cells": [
  {
   "cell_type": "code",
   "execution_count": 1,
   "metadata": {},
   "outputs": [
    {
     "name": "stderr",
     "output_type": "stream",
     "text": [
      "/home/od/anaconda3/envs/dfd-clip/lib/python3.8/site-packages/tqdm/auto.py:21: TqdmWarning: IProgress not found. Please update jupyter and ipywidgets. See https://ipywidgets.readthedocs.io/en/stable/user_install.html\n",
      "  from .autonotebook import tqdm as notebook_tqdm\n"
     ]
    }
   ],
   "source": [
    "\n",
    "import os\n",
    "import torch\n",
    "import pickle\n",
    "import random\n",
    "import logging\n",
    "import heartpy as hp\n",
    "import numpy as np\n",
    "import matplotlib.pyplot as plt\n",
    "import xml.etree.ElementTree as ET\n",
    "from os import path\n",
    "import pandas as pd\n",
    "from tqdm import tqdm\n",
    "from glob import glob\n",
    "from pyedflib import highlevel as reader\n",
    "from matplotlib import pyplot as plt\n",
    "from src.datasets import SessionMeta,RPPG"
   ]
  },
  {
   "cell_type": "code",
   "execution_count": 2,
   "metadata": {},
   "outputs": [],
   "source": [
    "# #read an edf file\n",
    "# signals, signal_headers, header = reader.read_edf('/storage/HCI/Sessions/59/Part_1_Trial18_taggingImages1.bdf')\n",
    "# signals.shape"
   ]
  },
  {
   "cell_type": "code",
   "execution_count": 3,
   "metadata": {},
   "outputs": [],
   "source": [
    "# signal_labels = [x[\"label\"] for x in signal_headers]\n",
    "# print(signal_labels,f\"len:{len(signal_labels)}\")\n",
    "# print(\"=============================\")\n",
    "# print(signal_labels.index(\"EXG1\"))\n",
    "# print(signal_labels.index(\"EXG2\"))\n",
    "# print(signal_labels.index(\"EXG3\"))"
   ]
  },
  {
   "cell_type": "code",
   "execution_count": 4,
   "metadata": {},
   "outputs": [],
   "source": [
    "# signal_headers"
   ]
  },
  {
   "cell_type": "code",
   "execution_count": 5,
   "metadata": {},
   "outputs": [],
   "source": [
    "# hr_freq = signal_headers[32][\"sample_frequency\"]\n",
    "# print(hr_freq)\n",
    "# hr_skip = int(hr_freq * 5)\n",
    "# hr_dur = int(hr_freq *10)\n",
    "# hr_data = signals[33][hr_skip:hr_skip + hr_dur]\n",
    "# plt.plot([i/hr_freq for i in range(len(hr_data))],hr_data)"
   ]
  },
  {
   "cell_type": "code",
   "execution_count": 6,
   "metadata": {},
   "outputs": [],
   "source": [
    "# event_freq = signal_headers[46][\"sample_frequency\"]\n",
    "# event_skip = int(event_freq * 29)\n",
    "# event_data = signals[46][event_skip:-event_skip]\n",
    "# plt.plot([i/event_freq for i in range(len(event_data))],event_data)"
   ]
  },
  {
   "cell_type": "code",
   "execution_count": 7,
   "metadata": {},
   "outputs": [
    {
     "name": "stderr",
     "output_type": "stream",
     "text": [
      "INFO:root:Meta folder specified, loading meta infos....\n",
      "3810it [00:00, 62735.00it/s]\n",
      "INFO:root:Session meta created.\n",
      "DEBUG:root:Number of session metas before checking: 3810\n",
      "INFO:root:Session meta filtered.\n",
      "DEBUG:root:Current number of sessions: 3136\n",
      "INFO:root:Session measures loaded.\n",
      "DEBUG:root:Current number of sessions: 3037\n",
      "DEBUG:root:Number of session metas ready for training: 3037\n"
     ]
    }
   ],
   "source": [
    "c = RPPG.get_default_config()\n",
    "c.train_ratio = 1.0\n",
    "c.compressions = [\"c23\"]\n",
    "# c.meta_folder = None\n",
    "\n",
    "# logging.basicConfig(level=\"INFO\")\n",
    "logging.basicConfig(level=\"DEBUG\")\n",
    "x = RPPG(c,50,10)"
   ]
  },
  {
   "cell_type": "code",
   "execution_count": 8,
   "metadata": {},
   "outputs": [
    {
     "name": "stdout",
     "output_type": "stream",
     "text": [
      "5519\n",
      "3037\n"
     ]
    }
   ],
   "source": [
    "print(len(x))\n",
    "print(len(x.session_metas))"
   ]
  },
  {
   "cell_type": "code",
   "execution_count": null,
   "metadata": {},
   "outputs": [],
   "source": [
    "# for i in range(10):\n",
    "#     idx = random.randrange(0,len(x))\n",
    "#     r = x.get_dict(idx)\n",
    "#     frames,label, masks = r[\"frames\"],r[\"label\"],r[\"mask\"]\n",
    "#     print(f\"{idx} new\",np.argmax(label)+41)\n",
    "#     r = x.get_dict(idx,True)\n",
    "#     frames,label, masks = r[\"frames\"],r[\"label\"],r[\"mask\"]\n",
    "#     print(f\"{idx} old\",np.argmax(label)+41)"
   ]
  },
  {
   "cell_type": "code",
   "execution_count": null,
   "metadata": {},
   "outputs": [],
   "source": [
    "# plt.figure(figsize=(100,150))\n",
    "# plt.imshow(np.stack(frames.numpy().transpose((0,2,3,1)),axis=1).reshape((150,-1,3)))"
   ]
  },
  {
   "cell_type": "code",
   "execution_count": null,
   "metadata": {},
   "outputs": [],
   "source": [
    "# plt.plot(hr_data)"
   ]
  },
  {
   "cell_type": "code",
   "execution_count": 9,
   "metadata": {},
   "outputs": [
    {
     "name": "stderr",
     "output_type": "stream",
     "text": [
      "DEBUG:root:session idx:66\n",
      "ERROR:root:Error occur: \n",
      "ERROR:root:Traceback (most recent call last):\n",
      "  File \"/home/od/Desktop/repos/dfd-clip/src/datasets.py\", line 493, in get_dict\n",
      "    measure_idx =  next(i for i,x in enumerate(session_measure[\"idx\"]) if  hr_sample_end <= x)\n",
      "StopIteration\n",
      "\n",
      "DEBUG:root:session idx:967\n",
      "DEBUG:root:Loading video: ./datasets/hci/cropped_faces/c23/3646/P29-Rec1-2009.09.03.11.51.42_C1 trigger _C_Section_6.avi, sample offset:2440\n"
     ]
    },
    {
     "name": "stdout",
     "output_type": "stream",
     "text": [
      "12803 12800\n",
      "20480 26112\n",
      "tensor(27)\n"
     ]
    }
   ],
   "source": [
    "r = x.get_dict(118,runtime=False)\n",
    "measure = r[\"measure\"]\n",
    "# hr_data = r[\"hr_data\"]\n",
    "print(np.argmax(r[\"label\"]))\n",
    "# plt.plot(list(range(len(hr_data))),hr_data)\n"
   ]
  },
  {
   "cell_type": "code",
   "execution_count": null,
   "metadata": {},
   "outputs": [],
   "source": [
    "\n",
    "for i in tqdm(range(len(x))):\n",
    "    try:\n",
    "        x[i]\n",
    "    except Exception as e:\n",
    "        print(i,e)"
   ]
  },
  {
   "cell_type": "code",
   "execution_count": null,
   "metadata": {},
   "outputs": [],
   "source": [
    "# # dataset consistency\n",
    "# rng = random.Random()\n",
    "# rng.seed(777)\n",
    "# session_dirs = sorted(glob(path.join('./datasets/hci/',\"Sessions\",\"*\")))\n",
    "# rng.shuffle(session_dirs)\n",
    "# session_metas = [None for _ in range(len(session_dirs))]\n",
    "# for i,session_dir in tqdm(enumerate(session_dirs)):\n",
    "#     try:\n",
    "#         with open(path.join(session_dir.replace(\"Sessions\",\"Metas\"),\"meta.pickle\"),\"rb\") as file:\n",
    "#             session_metas[i] = pickle.load(file)\n",
    "#     except:\n",
    "#         print(f\"Error Loading: {session_dir}.\")\n",
    "# session_metas = [\n",
    "#     meta for meta in session_metas \n",
    "#     if meta and meta.require_check(\n",
    "#         video=True,\n",
    "#         bdf=True,\n",
    "#         time=True,\n",
    "#         video_folders=[]\n",
    "#     )\n",
    "# ]\n",
    "# len(session_metas)"
   ]
  },
  {
   "cell_type": "code",
   "execution_count": null,
   "metadata": {},
   "outputs": [],
   "source": []
  }
 ],
 "metadata": {
  "kernelspec": {
   "display_name": "dfd-clip",
   "language": "python",
   "name": "python3"
  },
  "language_info": {
   "codemirror_mode": {
    "name": "ipython",
    "version": 3
   },
   "file_extension": ".py",
   "mimetype": "text/x-python",
   "name": "python",
   "nbconvert_exporter": "python",
   "pygments_lexer": "ipython3",
   "version": "3.8.16"
  },
  "orig_nbformat": 4,
  "vscode": {
   "interpreter": {
    "hash": "c9d400f0712968c6b0c2c185442708fcff6ca365f2120d94e1d89a9df5bd30ab"
   }
  }
 },
 "nbformat": 4,
 "nbformat_minor": 2
}
