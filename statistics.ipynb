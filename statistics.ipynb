{
 "cells": [
  {
   "cell_type": "code",
   "execution_count": 4,
   "metadata": {},
   "outputs": [
    {
     "data": {
      "text/plain": [
       "dict_keys(['FFPP', 'CDF', 'DFDC'])"
      ]
     },
     "execution_count": 4,
     "metadata": {},
     "output_type": "execute_result"
    }
   ],
   "source": [
    "import torch\n",
    "import pickle\n",
    "import evaluate\n",
    "with open(\"/home/od/Desktop/repos/dfd-clip/logs/deepfake/deepfake/2s(mode1+NT):c23+resi+tune+5e-4/stats_0509T0951_best.pickle\",\"rb\") as f:\n",
    "    x =  pickle.load(f)\n",
    "x.keys()"
   ]
  },
  {
   "cell_type": "code",
   "execution_count": 13,
   "metadata": {},
   "outputs": [],
   "source": [
    "acc =  evaluate.load(\"accuracy\")\n",
    "roc =  evaluate.load(\"roc_auc\")"
   ]
  },
  {
   "cell_type": "code",
   "execution_count": 14,
   "metadata": {},
   "outputs": [
    {
     "name": "stdout",
     "output_type": "stream",
     "text": [
      "FFPP\n",
      "{'accuracy': 0.8138297872340425}\n",
      "{'roc_auc': 0.7644802454929038}\n",
      "CDF\n",
      "{'accuracy': 0.4026258205689278}\n",
      "{'roc_auc': 0.7782381251307806}\n",
      "DFDC\n",
      "{'accuracy': 0.6641485678312874}\n",
      "{'roc_auc': 0.7248437350892261}\n"
     ]
    }
   ],
   "source": [
    "for k in x.keys():\n",
    "    print(k)\n",
    "    print(acc.compute(predictions= [1 if i > 0.5 else 0 for i in x[k][\"prob\"]],references= x[k][\"label\"]))\n",
    "    print(roc.compute(prediction_scores= x[k][\"prob\"],references= x[k][\"label\"]))"
   ]
  },
  {
   "cell_type": "code",
   "execution_count": null,
   "metadata": {},
   "outputs": [],
   "source": []
  }
 ],
 "metadata": {
  "kernelspec": {
   "display_name": "dfd-clip",
   "language": "python",
   "name": "python3"
  },
  "language_info": {
   "codemirror_mode": {
    "name": "ipython",
    "version": 3
   },
   "file_extension": ".py",
   "mimetype": "text/x-python",
   "name": "python",
   "nbconvert_exporter": "python",
   "pygments_lexer": "ipython3",
   "version": "3.8.16"
  },
  "orig_nbformat": 4
 },
 "nbformat": 4,
 "nbformat_minor": 2
}
