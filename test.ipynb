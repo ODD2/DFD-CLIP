{
 "cells": [
  {
   "cell_type": "code",
   "execution_count": null,
   "metadata": {},
   "outputs": [],
   "source": [
    "import torch\n",
    "import numpy as np\n",
    "from sklearn.manifold import TSNE\n",
    "from matplotlib import pyplot as plt\n",
    "# samples = 300*49*2\n",
    "samples = 100\n",
    "dim = 5\n",
    "x1 = torch.randn((samples, dim)) * 0.001 - 0.005\n",
    "x1_offset = torch.zeros(dim)\n",
    "x1_offset[2:4] = 0.005\n",
    "x1 = x1 + x1_offset\n",
    "x2 = torch.randn((samples, dim)) * 0.001 + 0.005\n",
    "x2_offset = torch.zeros(dim)\n",
    "x2_offset[2:4] = 0.005\n",
    "x2 = x2 - x2_offset\n",
    "x1 = x1.softmax(dim=-1)\n",
    "x2 = x2.softmax(dim=-1)\n",
    "X = torch.cat((x1, x2))\n",
    "print(x1, x2)\n",
    "plt.scatter(X[:, 0], X[:, 1], 1)\n",
    "plt.show()"
   ]
  },
  {
   "cell_type": "code",
   "execution_count": null,
   "metadata": {},
   "outputs": [],
   "source": [
    "tsne = TSNE(n_components=2, n_iter=1000, learning_rate='auto', init='random', perplexity=50)\n",
    "X = tsne.fit_transform(X)\n",
    "plt.scatter(X[:, 0], X[:, 1], 1)\n",
    "plt.show()"
   ]
  },
  {
   "cell_type": "code",
   "execution_count": null,
   "metadata": {},
   "outputs": [],
   "source": [
    "import torch\n",
    "# x = torch.tensor([[1,2],[3,4]])\n",
    "# y = torch.tensor([[1,1],[2,2]])\n",
    "x = torch.randn((10, 12, 64))\n",
    "y = torch.randn((10, 12, 64))\n",
    "print(x.shape, y.shape)\n",
    "aff = torch.einsum('qhd,khd->hqk', x, y)\n",
    "print(aff.shape)\n",
    "print((x[0, 1] @ y[0, 1]))\n",
    "print(aff[1, 0, 0])"
   ]
  },
  {
   "cell_type": "code",
   "execution_count": 23,
   "metadata": {},
   "outputs": [],
   "source": [
    "from sklearn.datasets import load_digits\n",
    "\n",
    "digits = load_digits(n_class=6)\n",
    "X, y = digits.data, digits.target\n",
    "n_samples, n_features = X.shape\n",
    "n_neighbors = 30"
   ]
  }
 ],
 "metadata": {
  "kernelspec": {
   "display_name": "dfd-clip",
   "language": "python",
   "name": "python3"
  },
  "language_info": {
   "codemirror_mode": {
    "name": "ipython",
    "version": 3
   },
   "file_extension": ".py",
   "mimetype": "text/x-python",
   "name": "python",
   "nbconvert_exporter": "python",
   "pygments_lexer": "ipython3",
   "version": "3.8.16"
  },
  "orig_nbformat": 4
 },
 "nbformat": 4,
 "nbformat_minor": 2
}
