{
 "cells": [
  {
   "cell_type": "code",
   "execution_count": 2,
   "metadata": {},
   "outputs": [],
   "source": [
    "import pickle\n",
    "data = []\n",
    "for file in [\n",
    "    \"/home/od/Desktop/repos/dfd-clip/misc/compression.pickle\",\n",
    "    \"/home/od/Desktop/repos/dfd-clip/misc/dev-mode+force-rgb.pickle\",\n",
    "    \"/home/od/Desktop/repos/dfd-clip/misc/dev-mode+force-hue.pickle\",\n",
    "    \"/home/od/Desktop/repos/dfd-clip/misc/dev-mode+force-bright.pickle\",\n",
    "    \"/home/od/Desktop/repos/dfd-clip/misc/any.pickle\",\n",
    "]:\n",
    "    with open(file, \"rb\") as f:\n",
    "        data.append(pickle.load(f))"
   ]
  },
  {
   "cell_type": "code",
   "execution_count": null,
   "metadata": {},
   "outputs": [],
   "source": [
    "l = {\n",
    "    \"k\": [sum([w * data[i][\"k\"][l] for i, w in enumerate([0.25, 0.25, 0.25, 0.25, -1])]) for l in range(12)],\n",
    "    \"v\": [sum([w * data[i][\"v\"][l] for i, w in enumerate([0.25, 0.25, 0.25, 0.25, -1])]) for l in range(12)]\n",
    "}"
   ]
  },
  {
   "cell_type": "code",
   "execution_count": null,
   "metadata": {},
   "outputs": [],
   "source": [
    "import numpy as np\n",
    "import matplotlib.pyplot as plt\n",
    "\n",
    "plt.figure(figsize=(36, 6))\n",
    "for j, s in enumerate([\"k\", \"v\"]):\n",
    "    for i, v in enumerate(l[s]):\n",
    "        plt.subplot(2, 12, j * 12 + i + 1)\n",
    "        im = plt.imshow(v)\n",
    "\n",
    "        plt.gca().set_xticks(np.arange(14))\n",
    "        plt.gca().set_yticks(np.arange(14))\n",
    "\n",
    "plt.tight_layout()\n",
    "plt.show()"
   ]
  },
  {
   "cell_type": "code",
   "execution_count": null,
   "metadata": {},
   "outputs": [],
   "source": []
  }
 ],
 "metadata": {
  "kernelspec": {
   "display_name": "dfd-clip",
   "language": "python",
   "name": "python3"
  },
  "language_info": {
   "codemirror_mode": {
    "name": "ipython",
    "version": 3
   },
   "file_extension": ".py",
   "mimetype": "text/x-python",
   "name": "python",
   "nbconvert_exporter": "python",
   "pygments_lexer": "ipython3",
   "version": "3.8.16"
  },
  "orig_nbformat": 4,
  "vscode": {
   "interpreter": {
    "hash": "c9d400f0712968c6b0c2c185442708fcff6ca365f2120d94e1d89a9df5bd30ab"
   }
  }
 },
 "nbformat": 4,
 "nbformat_minor": 2
}
