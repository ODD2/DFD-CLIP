{
 "cells": [
  {
   "cell_type": "code",
   "execution_count": 2,
   "metadata": {},
   "outputs": [
    {
     "name": "stderr",
     "output_type": "stream",
     "text": [
      "/home/od/anaconda3/envs/dfd-clip/lib/python3.8/site-packages/tqdm/auto.py:21: TqdmWarning: IProgress not found. Please update jupyter and ipywidgets. See https://ipywidgets.readthedocs.io/en/stable/user_install.html\n",
      "  from .autonotebook import tqdm as notebook_tqdm\n"
     ]
    },
    {
     "name": "stdout",
     "output_type": "stream",
     "text": [
      "List of configurations:\n",
      "/home/od/Desktop/repos/dfd-clip/logs/deepfake/deepfake/c23+resi+dbal+3e-3+4s20f+reg_vien(hf,s,pfa-s)+last6+SGD(0.9m)+feature_match(100)+nerf_raw(0.5)/report_0525T0152_best_video.json\n",
      "/home/od/Desktop/repos/dfd-clip/logs/deepfake/deepfake/c23+resi+dbal+3e-3+4s20f+reg_vien(hf,s,pfa-s)+last6+SGD(0.9m)+5000/report_0523T0322_best_video.json\n",
      "/home/od/Desktop/repos/dfd-clip/logs/deepfake/deepfake/c23+resi+dbal+3e-3+4s20f+reg_vien(hf,s,pfa-s)+last6+SGD(0.9m)/report_0521T0951_best_video.json\n",
      "/home/od/Desktop/repos/dfd-clip/logs/deepfake/deepfake/c23+resi+dbal+3e-3+4s20f+reg_vien(hf,s,pfa-s)+last6+SGD(0.9m)+feature_match(50)/report_0523T1801_best_video.json\n",
      "/home/od/Desktop/repos/dfd-clip/logs/deepfake/deepfake/c23+resi+dbal+3e-3+4s20f+reg_vien(hf,s,pfa-s)+last6+SGD(0.9m)-adapter/report_0521T1600_best_video.json\n",
      "/home/od/Desktop/repos/dfd-clip/logs/deepfake/deepfake/c23+resi+dbal+3e-3+4s20f+reg_vien(hf,s,pfa-s)+last6+SGD(0.9m)-pfa/report_0521T1352_best_video.json\n",
      "/home/od/Desktop/repos/dfd-clip/logs/deepfake/deepfake/c23+resi+dbal+3e-3+4s20f+reg_vien(hf,s,pfa-s)+last6+SGD(0.9m)-speed/report_0521T1803_best_video.json\n",
      "/home/od/Desktop/repos/dfd-clip/logs/deepfake/deepfake/c23+resi+dbal+3e-3+4s20f+reg_vien(hf,s,pfa-s)+last6+SGD(0.9m)+feature_match/report_0523T1151_best_video.json\n",
      "/home/od/Desktop/repos/dfd-clip/logs/deepfake/deepfake/c23+resi+dbal+3e-3+4s20f+reg_vien(hf,s,pfa-s)+last6+SGD(0.9m)+patch_mask(0.5)/report_0525T0210_best_video.json\n",
      "/home/od/Desktop/repos/dfd-clip/logs/deepfake/deepfake/c23+resi+dbal+3e-3+4s20f+reg_vien(hf,s,pfa-s)+last6+SGD(0.9m)+feature_match(10)+nerf_raw(0.01)/report_0524T1351_best_video.json\n",
      "/home/od/Desktop/repos/dfd-clip/logs/deepfake/deepfake/c23+resi+dbal+3e-3+4s20f+reg_vien(hf,s,pfa-s)+last6+SGD(0.9m)+FP16/report_0522T1648_best_video.json\n",
      "/home/od/Desktop/repos/dfd-clip/logs/deepfake/deepfake/c23+resi+dbal+3e-3+4s20f+reg_vien(hf,s,pfa-s)+last6+SGD(0.9m)+patch_mask(0.3)/report_0525T0452_best_video.json\n",
      "/home/od/Desktop/repos/dfd-clip/logs/deepfake/deepfake/c23+resi+dbal+3e-3+4s20f+reg_vien(hf,s,pfa-s)+last6+SGD(0.9m)+tune_all/report_0522T0633_best_video.json\n"
     ]
    }
   ],
   "source": [
    "import json\n",
    "import torch\n",
    "import pickle\n",
    "import evaluate\n",
    "from glob import glob\n",
    "condition = \"/home/od/Desktop/repos/dfd-clip/logs/deepfake/deepfake/c23+resi+dbal+3e-3+4s20f+reg_vien(hf,s,pfa-s)+last6+SGD(0.9m)*/report_*_best_video.json\"\n",
    "files = glob(condition)\n",
    "print(\"List of configurations:\")\n",
    "for f in files:\n",
    "    print(f)"
   ]
  },
  {
   "cell_type": "code",
   "execution_count": 4,
   "metadata": {},
   "outputs": [],
   "source": [
    "import pandas as pd\n",
    "\n",
    "report = []\n",
    "for file in files:\n",
    "    with open(file, \"r\") as f:\n",
    "        data = json.load(f)\n",
    "    data = {\n",
    "        \"Scenario\": file.split('/')[-2],\n",
    "        **{\n",
    "            f\"{col}({name})\": f\"{round(d[metric],3)}\"\n",
    "            for col, d in data.items()\n",
    "            for name, metric in [(\"ACC\", \"accuracy\"), (\"AUC\", \"roc_auc\")]\n",
    "\n",
    "        }\n",
    "    }\n",
    "    report.append(data)\n",
    "    # pd.concat([df, data], ignore_index=True)\n",
    "pd.DataFrame(columns=report[0].keys(), data=report).to_excel(\"~/Desktop/report.xlsx\")"
   ]
  },
  {
   "cell_type": "code",
   "execution_count": null,
   "metadata": {},
   "outputs": [],
   "source": []
  }
 ],
 "metadata": {
  "kernelspec": {
   "display_name": "dfd-clip",
   "language": "python",
   "name": "python3"
  },
  "language_info": {
   "codemirror_mode": {
    "name": "ipython",
    "version": 3
   },
   "file_extension": ".py",
   "mimetype": "text/x-python",
   "name": "python",
   "nbconvert_exporter": "python",
   "pygments_lexer": "ipython3",
   "version": "3.8.16"
  },
  "orig_nbformat": 4
 },
 "nbformat": 4,
 "nbformat_minor": 2
}
