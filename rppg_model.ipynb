{
 "cells": [
  {
   "cell_type": "code",
   "execution_count": null,
   "metadata": {},
   "outputs": [],
   "source": [
    "import pandas as pd\n",
    "import torch\n",
    "from src.models import Detector\n",
    "from main import get_config,init_accelerator,set_seed\n",
    "from torchinfo import summary\n",
    "\n",
    "\n",
    "\n",
    "config = get_config(\"./configs/cross-manipulation/raw/df.yaml\")\n",
    "\n",
    "# initialize accelerator and trackers (if enabled)\n",
    "accelerator = init_accelerator(config)\n",
    "accelerator.print(config.dump())\n",
    "\n",
    "# set random seed for deterministic training\n",
    "if config.system.deterministic_training:\n",
    "    set_seed(config.system.seed)\n",
    "\n",
    "# initialize model\n",
    "model = Detector(config.model, config.data.train.num_frames, accelerator)"
   ]
  },
  {
   "cell_type": "code",
   "execution_count": null,
   "metadata": {},
   "outputs": [],
   "source": [
    "model.forward = model.predict\n",
    "summary(model,input_size=(1,30,3,224,224), m = torch.tensor([[1.] * 30],dtype=bool))"
   ]
  },
  {
   "cell_type": "code",
   "execution_count": null,
   "metadata": {},
   "outputs": [],
   "source": [
    "with torch.no_grad():\n",
    "    model.eval()\n",
    "    x = model.predict(torch.randn((1,30,3,224,224)).cuda(),torch.tensor([[1.] * 30],dtype=bool).cuda())"
   ]
  },
  {
   "cell_type": "code",
   "execution_count": null,
   "metadata": {},
   "outputs": [],
   "source": [
    "x.shape"
   ]
  },
  {
   "cell_type": "code",
   "execution_count": null,
   "metadata": {},
   "outputs": [],
   "source": []
  }
 ],
 "metadata": {
  "kernelspec": {
   "display_name": "dfd-clip",
   "language": "python",
   "name": "python3"
  },
  "language_info": {
   "codemirror_mode": {
    "name": "ipython",
    "version": 3
   },
   "file_extension": ".py",
   "mimetype": "text/x-python",
   "name": "python",
   "nbconvert_exporter": "python",
   "pygments_lexer": "ipython3",
   "version": "3.8.16"
  },
  "orig_nbformat": 4,
  "vscode": {
   "interpreter": {
    "hash": "c9d400f0712968c6b0c2c185442708fcff6ca365f2120d94e1d89a9df5bd30ab"
   }
  }
 },
 "nbformat": 4,
 "nbformat_minor": 2
}
