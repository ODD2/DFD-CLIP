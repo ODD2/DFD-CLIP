{
 "cells": [
  {
   "cell_type": "code",
   "execution_count": null,
   "metadata": {},
   "outputs": [],
   "source": [
    "import torch\n",
    "from  torchinfo import summary\n",
    "import logging\n",
    "import statistics\n",
    "import numpy as np\n",
    "import random\n",
    "from tqdm import tqdm\n",
    "logging.basicConfig(level=\"DEBUG\")\n",
    "# params =  torch.load(\"/home/od/Desktop/repos/dfd-clip/logs/multi_evidence/mix/ff+rppg-loo(NT)/best_weights.pt\")\n",
    "params =  torch.load(\"/home/od/Desktop/repos/dfd-clip/logs/multi_evidence/mix/ff+rppg-loo(NT)-c23/best_weights.pt\")\n"
   ]
  },
  {
   "cell_type": "code",
   "execution_count": null,
   "metadata": {},
   "outputs": [],
   "source": [
    "from main import get_config\n",
    "c = get_config(\"configs/test.yml\")\n",
    "c"
   ]
  },
  {
   "cell_type": "code",
   "execution_count": null,
   "metadata": {},
   "outputs": [],
   "source": [
    "from src.models import Detector\n",
    "from accelerate import Accelerator\n",
    "\n",
    "accelerator =  Accelerator(mixed_precision='no')"
   ]
  },
  {
   "cell_type": "code",
   "execution_count": null,
   "metadata": {},
   "outputs": [],
   "source": [
    "model = Detector(c.model,c.data.num_frames,accelerator).eval().to(\"cuda\")\n",
    "model.load_state_dict(params)"
   ]
  },
  {
   "cell_type": "code",
   "execution_count": null,
   "metadata": {},
   "outputs": [],
   "source": [
    "from src.datasets import RPPG\n",
    "i,config = [ (i,config) for i,config in enumerate(c.data.eval) if config.name.lower()==\"rppg\"][0]\n",
    "dataset = RPPG(config,c.data.num_frames,c.data.clip_duration,model.transform,accelerator,\"val\",i)\n",
    "print(i)"
   ]
  },
  {
   "cell_type": "code",
   "execution_count": null,
   "metadata": {},
   "outputs": [],
   "source": [
    "import numpy as np\n",
    "import random\n",
    "from tqdm import tqdm\n",
    "distance = []\n",
    "for _i in tqdm(range(len(dataset))):\n",
    "    clip,label,mask,_ = dataset[_i]\n",
    "    hearrate = np.argmax(label).tolist()\n",
    "    with torch.no_grad():\n",
    "        result = model.predict(clip.unsqueeze(0).to(\"cuda\"),mask.unsqueeze(0).to(\"cuda\"),dataset.index).cpu().tolist()\n",
    "        torch.cuda.empty_cache()\n",
    "    distance.append(abs(hearrate-np.argmax(result)))\n",
    "print(statistics.mean(distance))\n",
    "print(statistics.stdev(distance))"
   ]
  },
  {
   "cell_type": "code",
   "execution_count": null,
   "metadata": {},
   "outputs": [],
   "source": [
    "from src.datasets import FFPP\n",
    "report = {}\n",
    "for t in [\"REAL\",\"DF\",\"FS\",\"F2F\",\"NT\"]:\n",
    "    i,config = [ (i,config) for i,config in enumerate(c.data.train) if config.name.lower()==\"deepfake\"][0]\n",
    "    config[\"types\"] = [t]\n",
    "    config[\"compressions\"] = [\"raw\"]\n",
    "    dataset = FFPP(config,c.data.num_frames,c.data.clip_duration,model.transform,accelerator,\"val\",i)\n",
    "    hrs   = []\n",
    "    for _i in tqdm(range(len(dataset))):\n",
    "        clip,label,mask,_ = dataset[_i]\n",
    "        with torch.no_grad():\n",
    "            result = model.predict(clip.unsqueeze(0).to(\"cuda\"),mask.unsqueeze(0).to(\"cuda\"),0).cpu().tolist()\n",
    "            torch.cuda.empty_cache()\n",
    "        hrs.append(np.argmax(result))\n",
    "    report[t] = [ statistics.mean(hrs), statistics.stdev(hrs)]\n",
    "report"
   ]
  }
 ],
 "metadata": {
  "kernelspec": {
   "display_name": "dfd-clip",
   "language": "python",
   "name": "python3"
  },
  "language_info": {
   "codemirror_mode": {
    "name": "ipython",
    "version": 3
   },
   "file_extension": ".py",
   "mimetype": "text/x-python",
   "name": "python",
   "nbconvert_exporter": "python",
   "pygments_lexer": "ipython3",
   "version": "3.8.16"
  },
  "orig_nbformat": 4,
  "vscode": {
   "interpreter": {
    "hash": "c9d400f0712968c6b0c2c185442708fcff6ca365f2120d94e1d89a9df5bd30ab"
   }
  }
 },
 "nbformat": 4,
 "nbformat_minor": 2
}
