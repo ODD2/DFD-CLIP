{
 "cells": [
  {
   "cell_type": "code",
   "execution_count": null,
   "metadata": {},
   "outputs": [],
   "source": [
    "import torch\n",
    "import torch.nn as nn\n",
    "\n",
    "class Test(nn.Module):\n",
    "    def __init__(self):\n",
    "        super().__init__()\n",
    "\n",
    "        self.class_embedding = nn.Parameter(10 * torch.randn(10))\n",
    "        self.ln_pre = nn.LayerNorm(180)\n",
    "\n",
    "a = Test()\n",
    "a.eval()"
   ]
  },
  {
   "cell_type": "code",
   "execution_count": null,
   "metadata": {},
   "outputs": [],
   "source": [
    "b = Test()\n",
    "b.eval()"
   ]
  },
  {
   "cell_type": "code",
   "execution_count": null,
   "metadata": {},
   "outputs": [],
   "source": [
    "for p1,p2 in zip(a.parameters(),b.parameters()):\n",
    "    print(p1.data,p2.data)\n",
    "    print(p1.data+p2.data)\n",
    "    p1.data = p1.data+p2.data\n",
    "    "
   ]
  },
  {
   "cell_type": "code",
   "execution_count": null,
   "metadata": {},
   "outputs": [],
   "source": [
    "for i in a.parameters():\n",
    "    print(i)"
   ]
  },
  {
   "cell_type": "code",
   "execution_count": null,
   "metadata": {},
   "outputs": [],
   "source": []
  },
  {
   "cell_type": "code",
   "execution_count": 1,
   "metadata": {},
   "outputs": [
    {
     "name": "stderr",
     "output_type": "stream",
     "text": [
      "/home/od/anaconda3/envs/dfd-clip/lib/python3.8/site-packages/tqdm/auto.py:21: TqdmWarning: IProgress not found. Please update jupyter and ipywidgets. See https://ipywidgets.readthedocs.io/en/stable/user_install.html\n",
      "  from .autonotebook import tqdm as notebook_tqdm\n"
     ]
    }
   ],
   "source": [
    "import torch\n",
    "data = torch.load(\"/home/od/Desktop/repos/dfd-clip/logs/comp-inv/comp-inv/0503T1230/last_weights.pt\")"
   ]
  },
  {
   "cell_type": "code",
   "execution_count": 3,
   "metadata": {},
   "outputs": [
    {
     "data": {
      "text/plain": [
       "dict_keys(['encoder.class_embedding', 'encoder.positional_embedding', 'encoder.proj', 'encoder.conv1.weight', 'encoder.ln_pre.weight', 'encoder.ln_pre.bias', 'encoder.transformer.resblocks.0.attn.in_proj_weight', 'encoder.transformer.resblocks.0.attn.in_proj_bias', 'encoder.transformer.resblocks.0.attn.out_proj.weight', 'encoder.transformer.resblocks.0.attn.out_proj.bias', 'encoder.transformer.resblocks.0.ln_1.weight', 'encoder.transformer.resblocks.0.ln_1.bias', 'encoder.transformer.resblocks.0.mlp.c_fc.weight', 'encoder.transformer.resblocks.0.mlp.c_fc.bias', 'encoder.transformer.resblocks.0.mlp.c_proj.weight', 'encoder.transformer.resblocks.0.mlp.c_proj.bias', 'encoder.transformer.resblocks.0.ln_2.weight', 'encoder.transformer.resblocks.0.ln_2.bias', 'encoder.transformer.resblocks.1.attn.in_proj_weight', 'encoder.transformer.resblocks.1.attn.in_proj_bias', 'encoder.transformer.resblocks.1.attn.out_proj.weight', 'encoder.transformer.resblocks.1.attn.out_proj.bias', 'encoder.transformer.resblocks.1.ln_1.weight', 'encoder.transformer.resblocks.1.ln_1.bias', 'encoder.transformer.resblocks.1.mlp.c_fc.weight', 'encoder.transformer.resblocks.1.mlp.c_fc.bias', 'encoder.transformer.resblocks.1.mlp.c_proj.weight', 'encoder.transformer.resblocks.1.mlp.c_proj.bias', 'encoder.transformer.resblocks.1.ln_2.weight', 'encoder.transformer.resblocks.1.ln_2.bias', 'encoder.transformer.resblocks.2.attn.in_proj_weight', 'encoder.transformer.resblocks.2.attn.in_proj_bias', 'encoder.transformer.resblocks.2.attn.out_proj.weight', 'encoder.transformer.resblocks.2.attn.out_proj.bias', 'encoder.transformer.resblocks.2.ln_1.weight', 'encoder.transformer.resblocks.2.ln_1.bias', 'encoder.transformer.resblocks.2.mlp.c_fc.weight', 'encoder.transformer.resblocks.2.mlp.c_fc.bias', 'encoder.transformer.resblocks.2.mlp.c_proj.weight', 'encoder.transformer.resblocks.2.mlp.c_proj.bias', 'encoder.transformer.resblocks.2.ln_2.weight', 'encoder.transformer.resblocks.2.ln_2.bias', 'encoder.transformer.resblocks.3.attn.in_proj_weight', 'encoder.transformer.resblocks.3.attn.in_proj_bias', 'encoder.transformer.resblocks.3.attn.out_proj.weight', 'encoder.transformer.resblocks.3.attn.out_proj.bias', 'encoder.transformer.resblocks.3.ln_1.weight', 'encoder.transformer.resblocks.3.ln_1.bias', 'encoder.transformer.resblocks.3.mlp.c_fc.weight', 'encoder.transformer.resblocks.3.mlp.c_fc.bias', 'encoder.transformer.resblocks.3.mlp.c_proj.weight', 'encoder.transformer.resblocks.3.mlp.c_proj.bias', 'encoder.transformer.resblocks.3.ln_2.weight', 'encoder.transformer.resblocks.3.ln_2.bias', 'encoder.transformer.resblocks.4.attn.in_proj_weight', 'encoder.transformer.resblocks.4.attn.in_proj_bias', 'encoder.transformer.resblocks.4.attn.out_proj.weight', 'encoder.transformer.resblocks.4.attn.out_proj.bias', 'encoder.transformer.resblocks.4.ln_1.weight', 'encoder.transformer.resblocks.4.ln_1.bias', 'encoder.transformer.resblocks.4.mlp.c_fc.weight', 'encoder.transformer.resblocks.4.mlp.c_fc.bias', 'encoder.transformer.resblocks.4.mlp.c_proj.weight', 'encoder.transformer.resblocks.4.mlp.c_proj.bias', 'encoder.transformer.resblocks.4.ln_2.weight', 'encoder.transformer.resblocks.4.ln_2.bias', 'encoder.transformer.resblocks.5.attn.in_proj_weight', 'encoder.transformer.resblocks.5.attn.in_proj_bias', 'encoder.transformer.resblocks.5.attn.out_proj.weight', 'encoder.transformer.resblocks.5.attn.out_proj.bias', 'encoder.transformer.resblocks.5.ln_1.weight', 'encoder.transformer.resblocks.5.ln_1.bias', 'encoder.transformer.resblocks.5.mlp.c_fc.weight', 'encoder.transformer.resblocks.5.mlp.c_fc.bias', 'encoder.transformer.resblocks.5.mlp.c_proj.weight', 'encoder.transformer.resblocks.5.mlp.c_proj.bias', 'encoder.transformer.resblocks.5.ln_2.weight', 'encoder.transformer.resblocks.5.ln_2.bias', 'encoder.transformer.resblocks.6.attn.in_proj_weight', 'encoder.transformer.resblocks.6.attn.in_proj_bias', 'encoder.transformer.resblocks.6.attn.out_proj.weight', 'encoder.transformer.resblocks.6.attn.out_proj.bias', 'encoder.transformer.resblocks.6.ln_1.weight', 'encoder.transformer.resblocks.6.ln_1.bias', 'encoder.transformer.resblocks.6.mlp.c_fc.weight', 'encoder.transformer.resblocks.6.mlp.c_fc.bias', 'encoder.transformer.resblocks.6.mlp.c_proj.weight', 'encoder.transformer.resblocks.6.mlp.c_proj.bias', 'encoder.transformer.resblocks.6.ln_2.weight', 'encoder.transformer.resblocks.6.ln_2.bias', 'encoder.transformer.resblocks.7.attn.in_proj_weight', 'encoder.transformer.resblocks.7.attn.in_proj_bias', 'encoder.transformer.resblocks.7.attn.out_proj.weight', 'encoder.transformer.resblocks.7.attn.out_proj.bias', 'encoder.transformer.resblocks.7.ln_1.weight', 'encoder.transformer.resblocks.7.ln_1.bias', 'encoder.transformer.resblocks.7.mlp.c_fc.weight', 'encoder.transformer.resblocks.7.mlp.c_fc.bias', 'encoder.transformer.resblocks.7.mlp.c_proj.weight', 'encoder.transformer.resblocks.7.mlp.c_proj.bias', 'encoder.transformer.resblocks.7.ln_2.weight', 'encoder.transformer.resblocks.7.ln_2.bias', 'encoder.transformer.resblocks.8.attn.in_proj_weight', 'encoder.transformer.resblocks.8.attn.in_proj_bias', 'encoder.transformer.resblocks.8.attn.out_proj.weight', 'encoder.transformer.resblocks.8.attn.out_proj.bias', 'encoder.transformer.resblocks.8.ln_1.weight', 'encoder.transformer.resblocks.8.ln_1.bias', 'encoder.transformer.resblocks.8.mlp.c_fc.weight', 'encoder.transformer.resblocks.8.mlp.c_fc.bias', 'encoder.transformer.resblocks.8.mlp.c_proj.weight', 'encoder.transformer.resblocks.8.mlp.c_proj.bias', 'encoder.transformer.resblocks.8.ln_2.weight', 'encoder.transformer.resblocks.8.ln_2.bias', 'encoder.transformer.resblocks.9.attn.in_proj_weight', 'encoder.transformer.resblocks.9.attn.in_proj_bias', 'encoder.transformer.resblocks.9.attn.out_proj.weight', 'encoder.transformer.resblocks.9.attn.out_proj.bias', 'encoder.transformer.resblocks.9.ln_1.weight', 'encoder.transformer.resblocks.9.ln_1.bias', 'encoder.transformer.resblocks.9.mlp.c_fc.weight', 'encoder.transformer.resblocks.9.mlp.c_fc.bias', 'encoder.transformer.resblocks.9.mlp.c_proj.weight', 'encoder.transformer.resblocks.9.mlp.c_proj.bias', 'encoder.transformer.resblocks.9.ln_2.weight', 'encoder.transformer.resblocks.9.ln_2.bias', 'encoder.transformer.resblocks.10.attn.in_proj_weight', 'encoder.transformer.resblocks.10.attn.in_proj_bias', 'encoder.transformer.resblocks.10.attn.out_proj.weight', 'encoder.transformer.resblocks.10.attn.out_proj.bias', 'encoder.transformer.resblocks.10.ln_1.weight', 'encoder.transformer.resblocks.10.ln_1.bias', 'encoder.transformer.resblocks.10.mlp.c_fc.weight', 'encoder.transformer.resblocks.10.mlp.c_fc.bias', 'encoder.transformer.resblocks.10.mlp.c_proj.weight', 'encoder.transformer.resblocks.10.mlp.c_proj.bias', 'encoder.transformer.resblocks.10.ln_2.weight', 'encoder.transformer.resblocks.10.ln_2.bias', 'encoder.transformer.resblocks.11.attn.in_proj_weight', 'encoder.transformer.resblocks.11.attn.in_proj_bias', 'encoder.transformer.resblocks.11.attn.out_proj.weight', 'encoder.transformer.resblocks.11.attn.out_proj.bias', 'encoder.transformer.resblocks.11.ln_1.weight', 'encoder.transformer.resblocks.11.ln_1.bias', 'encoder.transformer.resblocks.11.mlp.c_fc.weight', 'encoder.transformer.resblocks.11.mlp.c_fc.bias', 'encoder.transformer.resblocks.11.mlp.c_proj.weight', 'encoder.transformer.resblocks.11.mlp.c_proj.bias', 'encoder.transformer.resblocks.11.ln_2.weight', 'encoder.transformer.resblocks.11.ln_2.bias', 'encoder.ln_post.weight', 'encoder.ln_post.bias', 'adapter.l0_k.0.weight', 'adapter.l0_k.2.weight', 'adapter.l0_k.2.bias', 'adapter.l0_k.3.weight', 'adapter.l0_v.0.weight', 'adapter.l0_v.2.weight', 'adapter.l0_v.2.bias', 'adapter.l0_v.3.weight', 'adapter.l1_k.0.weight', 'adapter.l1_k.2.weight', 'adapter.l1_k.2.bias', 'adapter.l1_k.3.weight', 'adapter.l1_v.0.weight', 'adapter.l1_v.2.weight', 'adapter.l1_v.2.bias', 'adapter.l1_v.3.weight', 'adapter.l2_k.0.weight', 'adapter.l2_k.2.weight', 'adapter.l2_k.2.bias', 'adapter.l2_k.3.weight', 'adapter.l2_v.0.weight', 'adapter.l2_v.2.weight', 'adapter.l2_v.2.bias', 'adapter.l2_v.3.weight', 'adapter.l3_k.0.weight', 'adapter.l3_k.2.weight', 'adapter.l3_k.2.bias', 'adapter.l3_k.3.weight', 'adapter.l3_v.0.weight', 'adapter.l3_v.2.weight', 'adapter.l3_v.2.bias', 'adapter.l3_v.3.weight', 'adapter.l4_k.0.weight', 'adapter.l4_k.2.weight', 'adapter.l4_k.2.bias', 'adapter.l4_k.3.weight', 'adapter.l4_v.0.weight', 'adapter.l4_v.2.weight', 'adapter.l4_v.2.bias', 'adapter.l4_v.3.weight', 'adapter.l5_k.0.weight', 'adapter.l5_k.2.weight', 'adapter.l5_k.2.bias', 'adapter.l5_k.3.weight', 'adapter.l5_v.0.weight', 'adapter.l5_v.2.weight', 'adapter.l5_v.2.bias', 'adapter.l5_v.3.weight'])"
      ]
     },
     "execution_count": 3,
     "metadata": {},
     "output_type": "execute_result"
    }
   ],
   "source": [
    "data.keys()"
   ]
  },
  {
   "cell_type": "code",
   "execution_count": 4,
   "metadata": {},
   "outputs": [],
   "source": [
    "from src.models import CompInvEncoder\n",
    "from accelerate import Accelerator\n",
    "m = CompInvEncoder(CompInvEncoder.get_default_config(),Accelerator())"
   ]
  },
  {
   "cell_type": "code",
   "execution_count": 7,
   "metadata": {},
   "outputs": [
    {
     "data": {
      "text/plain": [
       "<All keys matched successfully>"
      ]
     },
     "execution_count": 7,
     "metadata": {},
     "output_type": "execute_result"
    }
   ],
   "source": [
    "m.load_state_dict(data)"
   ]
  },
  {
   "cell_type": "code",
   "execution_count": 8,
   "metadata": {},
   "outputs": [
    {
     "data": {
      "text/plain": [
       "dict_keys(['encoder.class_embedding', 'encoder.positional_embedding', 'encoder.proj', 'encoder.conv1.weight', 'encoder.ln_pre.weight', 'encoder.ln_pre.bias', 'encoder.transformer.resblocks.0.attn.in_proj_weight', 'encoder.transformer.resblocks.0.attn.in_proj_bias', 'encoder.transformer.resblocks.0.attn.out_proj.weight', 'encoder.transformer.resblocks.0.attn.out_proj.bias', 'encoder.transformer.resblocks.0.ln_1.weight', 'encoder.transformer.resblocks.0.ln_1.bias', 'encoder.transformer.resblocks.0.mlp.c_fc.weight', 'encoder.transformer.resblocks.0.mlp.c_fc.bias', 'encoder.transformer.resblocks.0.mlp.c_proj.weight', 'encoder.transformer.resblocks.0.mlp.c_proj.bias', 'encoder.transformer.resblocks.0.ln_2.weight', 'encoder.transformer.resblocks.0.ln_2.bias', 'encoder.transformer.resblocks.1.attn.in_proj_weight', 'encoder.transformer.resblocks.1.attn.in_proj_bias', 'encoder.transformer.resblocks.1.attn.out_proj.weight', 'encoder.transformer.resblocks.1.attn.out_proj.bias', 'encoder.transformer.resblocks.1.ln_1.weight', 'encoder.transformer.resblocks.1.ln_1.bias', 'encoder.transformer.resblocks.1.mlp.c_fc.weight', 'encoder.transformer.resblocks.1.mlp.c_fc.bias', 'encoder.transformer.resblocks.1.mlp.c_proj.weight', 'encoder.transformer.resblocks.1.mlp.c_proj.bias', 'encoder.transformer.resblocks.1.ln_2.weight', 'encoder.transformer.resblocks.1.ln_2.bias', 'encoder.transformer.resblocks.2.attn.in_proj_weight', 'encoder.transformer.resblocks.2.attn.in_proj_bias', 'encoder.transformer.resblocks.2.attn.out_proj.weight', 'encoder.transformer.resblocks.2.attn.out_proj.bias', 'encoder.transformer.resblocks.2.ln_1.weight', 'encoder.transformer.resblocks.2.ln_1.bias', 'encoder.transformer.resblocks.2.mlp.c_fc.weight', 'encoder.transformer.resblocks.2.mlp.c_fc.bias', 'encoder.transformer.resblocks.2.mlp.c_proj.weight', 'encoder.transformer.resblocks.2.mlp.c_proj.bias', 'encoder.transformer.resblocks.2.ln_2.weight', 'encoder.transformer.resblocks.2.ln_2.bias', 'encoder.transformer.resblocks.3.attn.in_proj_weight', 'encoder.transformer.resblocks.3.attn.in_proj_bias', 'encoder.transformer.resblocks.3.attn.out_proj.weight', 'encoder.transformer.resblocks.3.attn.out_proj.bias', 'encoder.transformer.resblocks.3.ln_1.weight', 'encoder.transformer.resblocks.3.ln_1.bias', 'encoder.transformer.resblocks.3.mlp.c_fc.weight', 'encoder.transformer.resblocks.3.mlp.c_fc.bias', 'encoder.transformer.resblocks.3.mlp.c_proj.weight', 'encoder.transformer.resblocks.3.mlp.c_proj.bias', 'encoder.transformer.resblocks.3.ln_2.weight', 'encoder.transformer.resblocks.3.ln_2.bias', 'encoder.transformer.resblocks.4.attn.in_proj_weight', 'encoder.transformer.resblocks.4.attn.in_proj_bias', 'encoder.transformer.resblocks.4.attn.out_proj.weight', 'encoder.transformer.resblocks.4.attn.out_proj.bias', 'encoder.transformer.resblocks.4.ln_1.weight', 'encoder.transformer.resblocks.4.ln_1.bias', 'encoder.transformer.resblocks.4.mlp.c_fc.weight', 'encoder.transformer.resblocks.4.mlp.c_fc.bias', 'encoder.transformer.resblocks.4.mlp.c_proj.weight', 'encoder.transformer.resblocks.4.mlp.c_proj.bias', 'encoder.transformer.resblocks.4.ln_2.weight', 'encoder.transformer.resblocks.4.ln_2.bias', 'encoder.transformer.resblocks.5.attn.in_proj_weight', 'encoder.transformer.resblocks.5.attn.in_proj_bias', 'encoder.transformer.resblocks.5.attn.out_proj.weight', 'encoder.transformer.resblocks.5.attn.out_proj.bias', 'encoder.transformer.resblocks.5.ln_1.weight', 'encoder.transformer.resblocks.5.ln_1.bias', 'encoder.transformer.resblocks.5.mlp.c_fc.weight', 'encoder.transformer.resblocks.5.mlp.c_fc.bias', 'encoder.transformer.resblocks.5.mlp.c_proj.weight', 'encoder.transformer.resblocks.5.mlp.c_proj.bias', 'encoder.transformer.resblocks.5.ln_2.weight', 'encoder.transformer.resblocks.5.ln_2.bias', 'encoder.transformer.resblocks.6.attn.in_proj_weight', 'encoder.transformer.resblocks.6.attn.in_proj_bias', 'encoder.transformer.resblocks.6.attn.out_proj.weight', 'encoder.transformer.resblocks.6.attn.out_proj.bias', 'encoder.transformer.resblocks.6.ln_1.weight', 'encoder.transformer.resblocks.6.ln_1.bias', 'encoder.transformer.resblocks.6.mlp.c_fc.weight', 'encoder.transformer.resblocks.6.mlp.c_fc.bias', 'encoder.transformer.resblocks.6.mlp.c_proj.weight', 'encoder.transformer.resblocks.6.mlp.c_proj.bias', 'encoder.transformer.resblocks.6.ln_2.weight', 'encoder.transformer.resblocks.6.ln_2.bias', 'encoder.transformer.resblocks.7.attn.in_proj_weight', 'encoder.transformer.resblocks.7.attn.in_proj_bias', 'encoder.transformer.resblocks.7.attn.out_proj.weight', 'encoder.transformer.resblocks.7.attn.out_proj.bias', 'encoder.transformer.resblocks.7.ln_1.weight', 'encoder.transformer.resblocks.7.ln_1.bias', 'encoder.transformer.resblocks.7.mlp.c_fc.weight', 'encoder.transformer.resblocks.7.mlp.c_fc.bias', 'encoder.transformer.resblocks.7.mlp.c_proj.weight', 'encoder.transformer.resblocks.7.mlp.c_proj.bias', 'encoder.transformer.resblocks.7.ln_2.weight', 'encoder.transformer.resblocks.7.ln_2.bias', 'encoder.transformer.resblocks.8.attn.in_proj_weight', 'encoder.transformer.resblocks.8.attn.in_proj_bias', 'encoder.transformer.resblocks.8.attn.out_proj.weight', 'encoder.transformer.resblocks.8.attn.out_proj.bias', 'encoder.transformer.resblocks.8.ln_1.weight', 'encoder.transformer.resblocks.8.ln_1.bias', 'encoder.transformer.resblocks.8.mlp.c_fc.weight', 'encoder.transformer.resblocks.8.mlp.c_fc.bias', 'encoder.transformer.resblocks.8.mlp.c_proj.weight', 'encoder.transformer.resblocks.8.mlp.c_proj.bias', 'encoder.transformer.resblocks.8.ln_2.weight', 'encoder.transformer.resblocks.8.ln_2.bias', 'encoder.transformer.resblocks.9.attn.in_proj_weight', 'encoder.transformer.resblocks.9.attn.in_proj_bias', 'encoder.transformer.resblocks.9.attn.out_proj.weight', 'encoder.transformer.resblocks.9.attn.out_proj.bias', 'encoder.transformer.resblocks.9.ln_1.weight', 'encoder.transformer.resblocks.9.ln_1.bias', 'encoder.transformer.resblocks.9.mlp.c_fc.weight', 'encoder.transformer.resblocks.9.mlp.c_fc.bias', 'encoder.transformer.resblocks.9.mlp.c_proj.weight', 'encoder.transformer.resblocks.9.mlp.c_proj.bias', 'encoder.transformer.resblocks.9.ln_2.weight', 'encoder.transformer.resblocks.9.ln_2.bias', 'encoder.transformer.resblocks.10.attn.in_proj_weight', 'encoder.transformer.resblocks.10.attn.in_proj_bias', 'encoder.transformer.resblocks.10.attn.out_proj.weight', 'encoder.transformer.resblocks.10.attn.out_proj.bias', 'encoder.transformer.resblocks.10.ln_1.weight', 'encoder.transformer.resblocks.10.ln_1.bias', 'encoder.transformer.resblocks.10.mlp.c_fc.weight', 'encoder.transformer.resblocks.10.mlp.c_fc.bias', 'encoder.transformer.resblocks.10.mlp.c_proj.weight', 'encoder.transformer.resblocks.10.mlp.c_proj.bias', 'encoder.transformer.resblocks.10.ln_2.weight', 'encoder.transformer.resblocks.10.ln_2.bias', 'encoder.transformer.resblocks.11.attn.in_proj_weight', 'encoder.transformer.resblocks.11.attn.in_proj_bias', 'encoder.transformer.resblocks.11.attn.out_proj.weight', 'encoder.transformer.resblocks.11.attn.out_proj.bias', 'encoder.transformer.resblocks.11.ln_1.weight', 'encoder.transformer.resblocks.11.ln_1.bias', 'encoder.transformer.resblocks.11.mlp.c_fc.weight', 'encoder.transformer.resblocks.11.mlp.c_fc.bias', 'encoder.transformer.resblocks.11.mlp.c_proj.weight', 'encoder.transformer.resblocks.11.mlp.c_proj.bias', 'encoder.transformer.resblocks.11.ln_2.weight', 'encoder.transformer.resblocks.11.ln_2.bias', 'encoder.ln_post.weight', 'encoder.ln_post.bias', 'adapter.l0_k.0.weight', 'adapter.l0_k.2.weight', 'adapter.l0_k.2.bias', 'adapter.l0_k.3.weight', 'adapter.l0_v.0.weight', 'adapter.l0_v.2.weight', 'adapter.l0_v.2.bias', 'adapter.l0_v.3.weight', 'adapter.l1_k.0.weight', 'adapter.l1_k.2.weight', 'adapter.l1_k.2.bias', 'adapter.l1_k.3.weight', 'adapter.l1_v.0.weight', 'adapter.l1_v.2.weight', 'adapter.l1_v.2.bias', 'adapter.l1_v.3.weight', 'adapter.l2_k.0.weight', 'adapter.l2_k.2.weight', 'adapter.l2_k.2.bias', 'adapter.l2_k.3.weight', 'adapter.l2_v.0.weight', 'adapter.l2_v.2.weight', 'adapter.l2_v.2.bias', 'adapter.l2_v.3.weight', 'adapter.l3_k.0.weight', 'adapter.l3_k.2.weight', 'adapter.l3_k.2.bias', 'adapter.l3_k.3.weight', 'adapter.l3_v.0.weight', 'adapter.l3_v.2.weight', 'adapter.l3_v.2.bias', 'adapter.l3_v.3.weight', 'adapter.l4_k.0.weight', 'adapter.l4_k.2.weight', 'adapter.l4_k.2.bias', 'adapter.l4_k.3.weight', 'adapter.l4_v.0.weight', 'adapter.l4_v.2.weight', 'adapter.l4_v.2.bias', 'adapter.l4_v.3.weight', 'adapter.l5_k.0.weight', 'adapter.l5_k.2.weight', 'adapter.l5_k.2.bias', 'adapter.l5_k.3.weight', 'adapter.l5_v.0.weight', 'adapter.l5_v.2.weight', 'adapter.l5_v.2.bias', 'adapter.l5_v.3.weight'])"
      ]
     },
     "execution_count": 8,
     "metadata": {},
     "output_type": "execute_result"
    }
   ],
   "source": [
    "data.keys()"
   ]
  },
  {
   "cell_type": "code",
   "execution_count": 11,
   "metadata": {},
   "outputs": [],
   "source": [
    "data = {\n",
    "  '.'.join(k.split('.')[1:]):v  for k,v in  data.items() if \"adapter\"  in k\n",
    "}"
   ]
  },
  {
   "cell_type": "code",
   "execution_count": 13,
   "metadata": {},
   "outputs": [
    {
     "data": {
      "text/plain": [
       "<All keys matched successfully>"
      ]
     },
     "execution_count": 13,
     "metadata": {},
     "output_type": "execute_result"
    },
    {
     "ename": "",
     "evalue": "",
     "output_type": "error",
     "traceback": [
      "\u001b[1;31mThe Kernel crashed while executing code in the the current cell or a previous cell. Please review the code in the cell(s) to identify a possible cause of the failure. Click <a href='https://aka.ms/vscodeJupyterKernelCrash'>here</a> for more info. View Jupyter <a href='command:jupyter.viewOutput'>log</a> for further details."
     ]
    }
   ],
   "source": [
    "m.adapter.load_state_dict(data)"
   ]
  },
  {
   "cell_type": "code",
   "execution_count": null,
   "metadata": {},
   "outputs": [],
   "source": []
  }
 ],
 "metadata": {
  "kernelspec": {
   "display_name": "dfd-clip",
   "language": "python",
   "name": "python3"
  },
  "language_info": {
   "codemirror_mode": {
    "name": "ipython",
    "version": 3
   },
   "file_extension": ".py",
   "mimetype": "text/x-python",
   "name": "python",
   "nbconvert_exporter": "python",
   "pygments_lexer": "ipython3",
   "version": "3.8.16"
  },
  "orig_nbformat": 4
 },
 "nbformat": 4,
 "nbformat_minor": 2
}
