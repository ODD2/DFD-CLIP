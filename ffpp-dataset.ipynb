{
    "cells": [
        {
            "cell_type": "code",
            "execution_count": null,
            "metadata": {},
            "outputs": [],
            "source": [
                "# initialize accelerator and trackers (if enabled)\n",
                "import torchvision.transforms as T\n",
                "import os\n",
                "import numpy as np\n",
                "import matplotlib.pyplot as plt\n",
                "from os import makedirs, path, scandir\n",
                "import pickle\n",
                "import cv2\n",
                "import json\n",
                "from yacs.config import CfgNode as CN\n",
                "from torch.utils.data import Dataset\n",
                "from tqdm import tqdm\n",
                "import logging\n",
                "import random\n",
                "import torch\n",
                "# from src.datasets import FFPP,RPPG\n",
                "from accelerate import Accelerator\n",
                "from main import get_config, init_accelerator, set_seed, FFPP, DFDC, CDF\n",
                "logging.basicConfig(level=\"DEBUG\", format='[%(levelname)s][%(filename)s:%(lineno)d]: %(message)s')\n",
                "\n",
                "\n",
                "class Obj:\n",
                "    pass\n",
                "\n",
                "\n",
                "def generate_samples(\n",
                "    sample_num,\n",
                "    num_frames=1,\n",
                "    duration=5,\n",
                "    stride=1,\n",
                "    path=\"./misc/extern/test/ffpp_sample/\",\n",
                "    splits=[\"train\", \"val\", \"test\"]\n",
                "):\n",
                "    plt.ioff()\n",
                "    transform = T.Compose([\n",
                "        T.Resize(224, interpolation=T.InterpolationMode.BICUBIC),\n",
                "        T.CenterCrop(224),\n",
                "        T.ConvertImageDtype(torch.float32),\n",
                "    ])\n",
                "    for split in splits:\n",
                "        c = FFPP.get_default_config()\n",
                "        c.augmentation = \"normal+rrc\"\n",
                "        c.contrast = 1\n",
                "        c.compressions = [\"c23\"]\n",
                "        c.types = [\"REAL\", \"DF\", \"FS\", \"F2F\", \"NT\"]\n",
                "        c.root_dir = \"./datasets/ffpp/\"\n",
                "        c.vid_ext = \".avi\"\n",
                "        accelerator = Accelerator(mixed_precision='no')\n",
                "        x = FFPP(c, num_frames, duration, transform, accelerator, split=split)\n",
                "        folder = os.path.join(path, split)\n",
                "        os.makedirs(folder, exist_ok=True)\n",
                "\n",
                "        for i in range(sample_num):\n",
                "            frames, label, mask, _, _ = x[random.randint(0, len(x))]\n",
                "            plt.figure(figsize=(2 * (num_frames // stride), 4), layout=\"constrained\")\n",
                "            plt.suptitle(f\"label={label}\")\n",
                "            plt.subplot(2, 1, 1)\n",
                "            plt.title(f\"mask={mask[0]}\")\n",
                "            print(frames[0][\"c23\"].shape)\n",
                "            plt.imshow(\n",
                "                np.stack(\n",
                "                    frames[0][\"c23\"][::stride].numpy().transpose((0, 2, 3, 1)), axis=1\n",
                "                ).reshape((x.n_px, -1, 3))\n",
                "            )\n",
                "            plt.subplot(2, 1, 2)\n",
                "            plt.title(f\"mask={mask[1]}\")\n",
                "            plt.imshow(\n",
                "                np.stack(\n",
                "                    frames[1][\"c23\"][::stride].numpy().transpose((0, 2, 3, 1)), axis=1\n",
                "                ).reshape((x.n_px, -1, 3))\n",
                "            )\n",
                "            # plt.show()\n",
                "            plt.savefig(os.path.join(folder, f\"{i}.jpg\"))\n",
                "            plt.close()\n",
                "            # return"
            ]
        },
        {
            "cell_type": "code",
            "execution_count": null,
            "metadata": {},
            "outputs": [],
            "source": [
                "generate_samples(200, splits=[\"train\"])"
            ]
        },
        {
            "cell_type": "code",
            "execution_count": null,
            "metadata": {},
            "outputs": [],
            "source": [
                "c = FFPP.get_default_config()\n",
                "c.augmentation = \"normal+rrc\"\n",
                "# c.pair = 1\n",
                "c.contrast = 1\n",
                "# c.compressions = [\"c23\", \"raw\"]\n",
                "# c.compressions = [\"raw\", \"c23\"]\n",
                "c.compressions = [\"c23\"]\n",
                "# c.ssl_fake = 1\n",
                "c.types = [\"REAL\", \"DF\", \"FS\", \"F2F\", \"NT\"]\n",
                "# c.types = [\"REAL\"]\n",
                "c.root_dir = \"./datasets/ffpp/\"\n",
                "c.vid_ext = \".avi\"\n",
                "# c.types = [\"DF\", \"FS\", \"F2F\"]\n",
                "accelerator = Accelerator(mixed_precision='no')\n",
                "x = FFPP(c, 1, 5, lambda x: x, accelerator, split=\"train\")\n",
                "c"
            ]
        },
        {
            "cell_type": "code",
            "execution_count": null,
            "metadata": {},
            "outputs": [],
            "source": [
                "# x.video_table[\"REAL\"][\"c23\"]"
            ]
        },
        {
            "cell_type": "code",
            "execution_count": null,
            "metadata": {},
            "outputs": [],
            "source": [
                "# typ, cmp, idx, _ = x.video_list[1234]\n",
                "# x.video_table[typ][cmp][idx]"
            ]
        },
        {
            "cell_type": "code",
            "execution_count": null,
            "metadata": {},
            "outputs": [],
            "source": [
                "# a = x.get_dict(7079, True)"
            ]
        },
        {
            "cell_type": "code",
            "execution_count": null,
            "metadata": {},
            "outputs": [],
            "source": [
                "len(x)"
            ]
        },
        {
            "cell_type": "code",
            "execution_count": null,
            "metadata": {},
            "outputs": [],
            "source": [
                "frames, label, mask, _, _ = x[random.randint(0, len(x))]\n",
                "# frames, label, mask, _, _ = x[9751]\n",
                "(len(frames), label, len(mask))"
            ]
        },
        {
            "cell_type": "code",
            "execution_count": null,
            "metadata": {},
            "outputs": [],
            "source": [
                "frames[0].keys(), frames[1].keys()"
            ]
        },
        {
            "cell_type": "code",
            "execution_count": null,
            "metadata": {},
            "outputs": [],
            "source": [
                "\n",
                "plt.figure(figsize=(50, 5))\n",
                "plt.subplot(2, 1, 1)\n",
                "plt.imshow(\n",
                "    np.stack(\n",
                "        frames[0][\"c23\"][:30].numpy().transpose((0, 2, 3, 1)), axis=1\n",
                "    ).reshape((x.n_px, -1, 3))\n",
                ")\n",
                "plt.subplot(2, 1, 2)\n",
                "plt.imshow(\n",
                "    np.stack(\n",
                "        frames[1][\"c23\"][:30].numpy().transpose((0, 2, 3, 1)), axis=1\n",
                "    ).reshape((x.n_px, -1, 3))\n",
                ")"
            ]
        },
        {
            "cell_type": "code",
            "execution_count": null,
            "metadata": {},
            "outputs": [],
            "source": []
        },
        {
            "cell_type": "code",
            "execution_count": null,
            "metadata": {},
            "outputs": [],
            "source": [
                "# for i in tqdm(range(len(x))):\n",
                "#     try:\n",
                "#         x[i]\n",
                "#     except Exception as e:\n",
                "#         print(f\"Error Occur at {i}:{e}\")"
            ]
        },
        {
            "attachments": {},
            "cell_type": "markdown",
            "metadata": {},
            "source": []
        }
    ],
    "metadata": {
        "kernelspec": {
            "display_name": "dfd-clip",
            "language": "python",
            "name": "python3"
        },
        "language_info": {
            "codemirror_mode": {
                "name": "ipython",
                "version": 3
            },
            "file_extension": ".py",
            "mimetype": "text/x-python",
            "name": "python",
            "nbconvert_exporter": "python",
            "pygments_lexer": "ipython3",
            "version": "3.8.16"
        },
        "orig_nbformat": 4,
        "vscode": {
            "interpreter": {
                "hash": "c9d400f0712968c6b0c2c185442708fcff6ca365f2120d94e1d89a9df5bd30ab"
            }
        }
    },
    "nbformat": 4,
    "nbformat_minor": 2
}
