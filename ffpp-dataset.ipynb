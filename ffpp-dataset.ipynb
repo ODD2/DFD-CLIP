{
    "cells": [
        {
            "cell_type": "code",
            "execution_count": null,
            "metadata": {},
            "outputs": [],
            "source": [
                "# initialize accelerator and trackers (if enabled)\n",
                "from os import makedirs, path, scandir\n",
                "import pickle\n",
                "import cv2\n",
                "import json\n",
                "from yacs.config import CfgNode as CN\n",
                "from torch.utils.data import Dataset\n",
                "from tqdm import tqdm\n",
                "import logging\n",
                "import random\n",
                "import torch\n",
                "# from src.datasets import FFPP,RPPG\n",
                "from accelerate import Accelerator\n",
                "from main import get_config, init_accelerator, set_seed, FFPP, DFDC, CDF\n",
                "logging.basicConfig(level=\"DEBUG\",format='[%(levelname)s][%(filename)s:%(lineno)d]: %(message)s')\n",
                "\n",
                "\n",
                "class Obj:\n",
                "    pass\n",
                "\n",
                "\n",
                "c = FFPP.get_default_config()\n",
                "c.augmentation = \"normal+frame\"\n",
                "# c.pair = 1\n",
                "c.contrast = 1\n",
                "# c.compressions = [\"c23\", \"raw\"]\n",
                "# c.compressions = [\"raw\", \"c23\"]\n",
                "c.compressions = [\"c23\"]\n",
                "# c.ssl_fake = 1\n",
                "c.types = [\"REAL\", \"DF\", \"FS\", \"F2F\", \"NT\"]\n",
                "# c.types = [\"REAL\"]\n",
                "c.root_dir = \"./datasets/ffpp/\"\n",
                "c.vid_ext = \".avi\"\n",
                "# c.types = [\"DF\", \"FS\", \"F2F\"]\n",
                "accelerator = Accelerator(mixed_precision='no')\n",
                "x = FFPP(c, 20, 5, lambda x: x, accelerator, split=\"train\")\n",
                "c"
            ]
        },
        {
            "cell_type": "code",
            "execution_count": null,
            "metadata": {},
            "outputs": [],
            "source": [
                "# x.video_table[\"REAL\"][\"c23\"]"
            ]
        },
        {
            "cell_type": "code",
            "execution_count": null,
            "metadata": {},
            "outputs": [],
            "source": [
                "typ, cmp, idx, _ = x.video_list[1234]\n",
                "x.video_table[typ][cmp][idx]"
            ]
        },
        {
            "cell_type": "code",
            "execution_count": null,
            "metadata": {},
            "outputs": [],
            "source": [
                "a = x.get_dict(7079, True)"
            ]
        },
        {
            "cell_type": "code",
            "execution_count": null,
            "metadata": {},
            "outputs": [],
            "source": [
                "len(x)"
            ]
        },
        {
            "cell_type": "code",
            "execution_count": null,
            "metadata": {},
            "outputs": [],
            "source": [
                "frames, label, mask, _, _ = x[random.randint(0, len(x))]\n",
                "(len(frames), label, len(mask))"
            ]
        },
        {
            "cell_type": "code",
            "execution_count": null,
            "metadata": {},
            "outputs": [],
            "source": [
                "frames[0].keys(),frames[1].keys()"
            ]
        },
        {
            "cell_type": "code",
            "execution_count": null,
            "metadata": {},
            "outputs": [],
            "source": [
                "import numpy as np\n",
                "import matplotlib.pyplot as plt\n",
                "plt.figure(figsize=(50, 5))\n",
                "plt.subplot(2, 1, 1)\n",
                "plt.imshow(\n",
                "    np.stack(\n",
                "        frames[0][\"c23\"][:30].numpy().transpose((0, 2, 3, 1)), axis=1\n",
                "    ).reshape((x.n_px, -1, 3))\n",
                ")\n",
                "plt.subplot(2, 1, 2)\n",
                "plt.imshow(\n",
                "    np.stack(\n",
                "        frames[1][\"c23\"][:30].numpy().transpose((0, 2, 3, 1)), axis=1\n",
                "    ).reshape((x.n_px, -1, 3))\n",
                ")"
            ]
        },
        {
            "cell_type": "code",
            "execution_count": null,
            "metadata": {},
            "outputs": [],
            "source": [
                "label"
            ]
        },
        {
            "cell_type": "code",
            "execution_count": null,
            "metadata": {},
            "outputs": [],
            "source": [
                "# for i in tqdm(range(len(x))):\n",
                "#     try:\n",
                "#         x[i]\n",
                "#     except Exception as e:\n",
                "#         print(f\"Error Occur at {i}:{e}\")"
            ]
        },
        {
            "cell_type": "code",
            "execution_count": null,
            "metadata": {},
            "outputs": [],
            "source": []
        },
        {
            "attachments": {},
            "cell_type": "markdown",
            "metadata": {},
            "source": []
        }
    ],
    "metadata": {
        "kernelspec": {
            "display_name": "dfd-clip",
            "language": "python",
            "name": "python3"
        },
        "language_info": {
            "codemirror_mode": {
                "name": "ipython",
                "version": 3
            },
            "file_extension": ".py",
            "mimetype": "text/x-python",
            "name": "python",
            "nbconvert_exporter": "python",
            "pygments_lexer": "ipython3",
            "version": "3.8.16"
        },
        "orig_nbformat": 4,
        "vscode": {
            "interpreter": {
                "hash": "c9d400f0712968c6b0c2c185442708fcff6ca365f2120d94e1d89a9df5bd30ab"
            }
        }
    },
    "nbformat": 4,
    "nbformat_minor": 2
}
