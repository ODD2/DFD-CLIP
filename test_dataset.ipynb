{
 "cells": [
  {
   "cell_type": "code",
   "execution_count": null,
   "metadata": {},
   "outputs": [],
   "source": [
    "# initialize accelerator and trackers (if enabled)\n",
    "from os import makedirs, path, scandir\n",
    "import pickle\n",
    "import cv2\n",
    "import json\n",
    "from yacs.config import CfgNode as CN\n",
    "from torch.utils.data import Dataset\n",
    "from tqdm import tqdm\n",
    "import logging\n",
    "import random\n",
    "import torch\n",
    "# from src.datasets import FFPP,RPPG\n",
    "from accelerate import Accelerator\n",
    "from main import get_config\n",
    "from src.datasets import CDF, DFDC\n",
    "logging.basicConfig(level=\"DEBUG\")\n",
    "\n",
    "\n",
    "accelerator = Accelerator(mixed_precision='no')\n",
    "c = CDF.get_default_config()\n",
    "c.root_dir = \"./datasets/cdf/\"\n",
    "x = CDF(c.clone(), 20, 4, lambda x: x, accelerator, split=\"test\")\n",
    "c = DFDC.get_default_config()\n",
    "c.root_dir = \"./datasets/dfdc/\"\n",
    "x = DFDC(c.clone(), 20, 4, lambda x: x, accelerator, split=\"test\")"
   ]
  },
  {
   "cell_type": "code",
   "execution_count": null,
   "metadata": {},
   "outputs": [],
   "source": [
    "x.video_table"
   ]
  },
  {
   "cell_type": "code",
   "execution_count": null,
   "metadata": {},
   "outputs": [],
   "source": [
    "len(x.video_list)"
   ]
  },
  {
   "cell_type": "code",
   "execution_count": null,
   "metadata": {},
   "outputs": [],
   "source": [
    "typ, idx, _ = x.video_list[10]\n",
    "x.video_table[typ][idx]"
   ]
  },
  {
   "cell_type": "code",
   "execution_count": null,
   "metadata": {},
   "outputs": [],
   "source": [
    "len(x)"
   ]
  },
  {
   "cell_type": "code",
   "execution_count": null,
   "metadata": {},
   "outputs": [],
   "source": [
    "# frames, label, mask, _ = x[random.randint(0, len(x))]\n",
    "frames, label, mask, _ = x[1468]\n",
    "(len(frames), label, len(mask))"
   ]
  },
  {
   "cell_type": "code",
   "execution_count": null,
   "metadata": {},
   "outputs": [],
   "source": [
    "import numpy as np\n",
    "import matplotlib.pyplot as plt\n",
    "plt.figure(figsize=(30, 150))\n",
    "plt.imshow(np.stack(frames[:30].numpy().transpose((0, 2, 3, 1)), axis=1).reshape((150, -1, 3)))"
   ]
  },
  {
   "cell_type": "code",
   "execution_count": null,
   "metadata": {},
   "outputs": [],
   "source": [
    "for i in tqdm(range(len(x))):\n",
    "    try:\n",
    "        x[i]\n",
    "    except Exception as e:\n",
    "        print(f\"Error Occur at {i}:{e}\")"
   ]
  },
  {
   "cell_type": "code",
   "execution_count": null,
   "metadata": {},
   "outputs": [],
   "source": []
  }
 ],
 "metadata": {
  "kernelspec": {
   "display_name": "dfd-clip",
   "language": "python",
   "name": "python3"
  },
  "language_info": {
   "codemirror_mode": {
    "name": "ipython",
    "version": 3
   },
   "file_extension": ".py",
   "mimetype": "text/x-python",
   "name": "python",
   "nbconvert_exporter": "python",
   "pygments_lexer": "ipython3",
   "version": "3.8.16"
  },
  "orig_nbformat": 4,
  "vscode": {
   "interpreter": {
    "hash": "c9d400f0712968c6b0c2c185442708fcff6ca365f2120d94e1d89a9df5bd30ab"
   }
  }
 },
 "nbformat": 4,
 "nbformat_minor": 2
}
